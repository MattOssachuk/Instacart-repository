{
 "cells": [
  {
   "cell_type": "markdown",
   "id": "56c53a32",
   "metadata": {},
   "source": [
    "6) Create an appropriate visualization to show the distribution of profiles.\n",
    "\n",
    "7) Aggregate the max, mean, and min variables on a customer-profile level for usage frequency and expenditure.\n",
    "\n",
    "8) Compare your customer profiles with regions and departments. Can you identify a link between them? Customers may demonstrate different behaviors across regions, which could make this information important.\n",
    "\n",
    "9) Produce suitable charts to illustrate your results and export them in your project folder."
   ]
  },
  {
   "cell_type": "markdown",
   "id": "459e2bb7",
   "metadata": {},
   "source": [
    "# Importing Libraries"
   ]
  },
  {
   "cell_type": "code",
   "execution_count": 195,
   "id": "83e6875e",
   "metadata": {},
   "outputs": [],
   "source": [
    "# Importing libraries - will need visualizations for this task\n",
    "import pandas as pd\n",
    "import numpy as np\n",
    "import os\n",
    "import matplotlib.pyplot as plt\n",
    "import seaborn as sns\n",
    "import scipy\n",
    "import matplotlib.ticker as mtick"
   ]
  },
  {
   "cell_type": "markdown",
   "id": "21dd6d36",
   "metadata": {},
   "source": [
    "## Creating a path to the .pkl file"
   ]
  },
  {
   "cell_type": "code",
   "execution_count": 2,
   "id": "558d7fcb",
   "metadata": {},
   "outputs": [],
   "source": [
    "path = r'C:\\Users\\mmoss\\20-12-2021 Instacart Basket Analysis'"
   ]
  },
  {
   "cell_type": "markdown",
   "id": "3c7257f4",
   "metadata": {},
   "source": [
    "## 1. Importing the .pkl file"
   ]
  },
  {
   "cell_type": "code",
   "execution_count": 3,
   "id": "6835d0c0",
   "metadata": {},
   "outputs": [],
   "source": [
    "df_data_merged_A = pd.read_pickle(os.path.join(path, '02 Data', 'Prepared Data', '4.10_Data_Merged_A.pkl'))"
   ]
  },
  {
   "cell_type": "code",
   "execution_count": 4,
   "id": "0336b50a",
   "metadata": {},
   "outputs": [],
   "source": [
    "top_10_selling_items = pd.read_pickle(os.path.join(path, '02 Data', 'Prepared Data', 'top_10_selling_items.pkl'))"
   ]
  },
  {
   "cell_type": "markdown",
   "id": "5f1f1647",
   "metadata": {},
   "source": [
    "# Bar chart of the most popular products"
   ]
  },
  {
   "cell_type": "code",
   "execution_count": 166,
   "id": "8f05d6cd",
   "metadata": {},
   "outputs": [
    {
     "data": {
      "image/png": "[encoded data removed]",
      "text/plain": [
       "<Figure size 432x288 with 1 Axes>"
      ]
     },
     "metadata": {
      "needs_background": "light"
     },
     "output_type": "display_data"
    }
   ],
   "source": [
    "# Creating top 10 selling items bar chart\n",
    "bar_top_10_selling_items = top_10_selling_items['product_name'].value_counts().plot.bar()\n",
    "plt.ylabel('Number of Orders')\n",
    "plt.xlabel('Item')\n",
    "plt.title('Orders by Item')\n",
    "plt.tight_layout()"
   ]
  },
  {
   "cell_type": "code",
   "execution_count": 167,
   "id": "f65c8266",
   "metadata": {},
   "outputs": [],
   "source": [
    "# Export top 10 selling items\n",
    "bar_top_10_selling_items.figure.savefig(os.path.join(path,'04 Analysis','Visualizations','top_10_selling_items.png'))"
   ]
  },
  {
   "cell_type": "markdown",
   "id": "16772889",
   "metadata": {},
   "source": [
    "## Department frequency and sales"
   ]
  },
  {
   "cell_type": "code",
   "execution_count": 7,
   "id": "c9cc1af8",
   "metadata": {},
   "outputs": [
    {
     "data": {
      "text/html": [
       "<div>\n",
       "<style scoped>\n",
       "    .dataframe tbody tr th:only-of-type {\n",
       "        vertical-align: middle;\n",
       "    }\n",
       "\n",
       "    .dataframe tbody tr th {\n",
       "        vertical-align: top;\n",
       "    }\n",
       "\n",
       "    .dataframe thead th {\n",
       "        text-align: right;\n",
       "    }\n",
       "</style>\n",
       "<table border=\"1\" class=\"dataframe\">\n",
       "  <thead>\n",
       "    <tr style=\"text-align: right;\">\n",
       "      <th></th>\n",
       "      <th>order_id</th>\n",
       "      <th>user_id</th>\n",
       "      <th>order_number</th>\n",
       "      <th>orders_day_of_week</th>\n",
       "      <th>order_hour_of_day</th>\n",
       "      <th>days_since_prior_order</th>\n",
       "      <th>first_order</th>\n",
       "      <th>product_id</th>\n",
       "      <th>add_to_cart_order</th>\n",
       "      <th>reordered</th>\n",
       "      <th>_merge</th>\n",
       "      <th>product_name</th>\n",
       "      <th>aisle_id</th>\n",
       "      <th>department_id</th>\n",
       "      <th>prices</th>\n",
       "      <th>price_range_loc</th>\n",
       "      <th>busiest_day</th>\n",
       "      <th>busiest_day_2</th>\n",
       "      <th>busiest_period_of_day</th>\n",
       "      <th>average_price</th>\n",
       "      <th>spending_flag</th>\n",
       "      <th>gender</th>\n",
       "      <th>state</th>\n",
       "      <th>age</th>\n",
       "      <th>date_joined</th>\n",
       "      <th>number_of_dependants</th>\n",
       "      <th>marital_status</th>\n",
       "      <th>income</th>\n",
       "      <th>region</th>\n",
       "      <th>max_order</th>\n",
       "      <th>exclude_flag</th>\n",
       "      <th>age_group</th>\n",
       "      <th>income_range</th>\n",
       "      <th>parental_status</th>\n",
       "      <th>selling_performance</th>\n",
       "    </tr>\n",
       "  </thead>\n",
       "  <tbody>\n",
       "    <tr>\n",
       "      <th>0</th>\n",
       "      <td>2539329</td>\n",
       "      <td>1</td>\n",
       "      <td>1</td>\n",
       "      <td>2</td>\n",
       "      <td>8</td>\n",
       "      <td>NaN</td>\n",
       "      <td>True</td>\n",
       "      <td>196</td>\n",
       "      <td>1</td>\n",
       "      <td>0</td>\n",
       "      <td>both</td>\n",
       "      <td>Soda</td>\n",
       "      <td>77</td>\n",
       "      <td>7</td>\n",
       "      <td>9.0</td>\n",
       "      <td>Mid-range product</td>\n",
       "      <td>Regularly busy</td>\n",
       "      <td>Regularly busy</td>\n",
       "      <td>Fewest orders</td>\n",
       "      <td>6.367797</td>\n",
       "      <td>Low Spender</td>\n",
       "      <td>Female</td>\n",
       "      <td>Alabama</td>\n",
       "      <td>31</td>\n",
       "      <td>2/17/2019</td>\n",
       "      <td>3</td>\n",
       "      <td>married</td>\n",
       "      <td>40423</td>\n",
       "      <td>South</td>\n",
       "      <td>10</td>\n",
       "      <td>Non-Low Activity Customer</td>\n",
       "      <td>31-40</td>\n",
       "      <td>009950-040525</td>\n",
       "      <td>parent</td>\n",
       "      <td>Other Products</td>\n",
       "    </tr>\n",
       "    <tr>\n",
       "      <th>1</th>\n",
       "      <td>2398795</td>\n",
       "      <td>1</td>\n",
       "      <td>2</td>\n",
       "      <td>3</td>\n",
       "      <td>7</td>\n",
       "      <td>15.0</td>\n",
       "      <td>False</td>\n",
       "      <td>196</td>\n",
       "      <td>1</td>\n",
       "      <td>1</td>\n",
       "      <td>both</td>\n",
       "      <td>Soda</td>\n",
       "      <td>77</td>\n",
       "      <td>7</td>\n",
       "      <td>9.0</td>\n",
       "      <td>Mid-range product</td>\n",
       "      <td>Regularly busy</td>\n",
       "      <td>Slowest days</td>\n",
       "      <td>Fewest orders</td>\n",
       "      <td>6.367797</td>\n",
       "      <td>Low Spender</td>\n",
       "      <td>Female</td>\n",
       "      <td>Alabama</td>\n",
       "      <td>31</td>\n",
       "      <td>2/17/2019</td>\n",
       "      <td>3</td>\n",
       "      <td>married</td>\n",
       "      <td>40423</td>\n",
       "      <td>South</td>\n",
       "      <td>10</td>\n",
       "      <td>Non-Low Activity Customer</td>\n",
       "      <td>31-40</td>\n",
       "      <td>009950-040525</td>\n",
       "      <td>parent</td>\n",
       "      <td>Other Products</td>\n",
       "    </tr>\n",
       "    <tr>\n",
       "      <th>2</th>\n",
       "      <td>473747</td>\n",
       "      <td>1</td>\n",
       "      <td>3</td>\n",
       "      <td>3</td>\n",
       "      <td>12</td>\n",
       "      <td>21.0</td>\n",
       "      <td>False</td>\n",
       "      <td>196</td>\n",
       "      <td>1</td>\n",
       "      <td>1</td>\n",
       "      <td>both</td>\n",
       "      <td>Soda</td>\n",
       "      <td>77</td>\n",
       "      <td>7</td>\n",
       "      <td>9.0</td>\n",
       "      <td>Mid-range product</td>\n",
       "      <td>Regularly busy</td>\n",
       "      <td>Slowest days</td>\n",
       "      <td>Fewest orders</td>\n",
       "      <td>6.367797</td>\n",
       "      <td>Low Spender</td>\n",
       "      <td>Female</td>\n",
       "      <td>Alabama</td>\n",
       "      <td>31</td>\n",
       "      <td>2/17/2019</td>\n",
       "      <td>3</td>\n",
       "      <td>married</td>\n",
       "      <td>40423</td>\n",
       "      <td>South</td>\n",
       "      <td>10</td>\n",
       "      <td>Non-Low Activity Customer</td>\n",
       "      <td>31-40</td>\n",
       "      <td>009950-040525</td>\n",
       "      <td>parent</td>\n",
       "      <td>Other Products</td>\n",
       "    </tr>\n",
       "    <tr>\n",
       "      <th>3</th>\n",
       "      <td>2254736</td>\n",
       "      <td>1</td>\n",
       "      <td>4</td>\n",
       "      <td>4</td>\n",
       "      <td>7</td>\n",
       "      <td>29.0</td>\n",
       "      <td>False</td>\n",
       "      <td>196</td>\n",
       "      <td>1</td>\n",
       "      <td>1</td>\n",
       "      <td>both</td>\n",
       "      <td>Soda</td>\n",
       "      <td>77</td>\n",
       "      <td>7</td>\n",
       "      <td>9.0</td>\n",
       "      <td>Mid-range product</td>\n",
       "      <td>Least busy</td>\n",
       "      <td>Regularly busy</td>\n",
       "      <td>Fewest orders</td>\n",
       "      <td>6.367797</td>\n",
       "      <td>Low Spender</td>\n",
       "      <td>Female</td>\n",
       "      <td>Alabama</td>\n",
       "      <td>31</td>\n",
       "      <td>2/17/2019</td>\n",
       "      <td>3</td>\n",
       "      <td>married</td>\n",
       "      <td>40423</td>\n",
       "      <td>South</td>\n",
       "      <td>10</td>\n",
       "      <td>Non-Low Activity Customer</td>\n",
       "      <td>31-40</td>\n",
       "      <td>009950-040525</td>\n",
       "      <td>parent</td>\n",
       "      <td>Other Products</td>\n",
       "    </tr>\n",
       "    <tr>\n",
       "      <th>4</th>\n",
       "      <td>431534</td>\n",
       "      <td>1</td>\n",
       "      <td>5</td>\n",
       "      <td>4</td>\n",
       "      <td>15</td>\n",
       "      <td>28.0</td>\n",
       "      <td>False</td>\n",
       "      <td>196</td>\n",
       "      <td>1</td>\n",
       "      <td>1</td>\n",
       "      <td>both</td>\n",
       "      <td>Soda</td>\n",
       "      <td>77</td>\n",
       "      <td>7</td>\n",
       "      <td>9.0</td>\n",
       "      <td>Mid-range product</td>\n",
       "      <td>Least busy</td>\n",
       "      <td>Regularly busy</td>\n",
       "      <td>Fewest orders</td>\n",
       "      <td>6.367797</td>\n",
       "      <td>Low Spender</td>\n",
       "      <td>Female</td>\n",
       "      <td>Alabama</td>\n",
       "      <td>31</td>\n",
       "      <td>2/17/2019</td>\n",
       "      <td>3</td>\n",
       "      <td>married</td>\n",
       "      <td>40423</td>\n",
       "      <td>South</td>\n",
       "      <td>10</td>\n",
       "      <td>Non-Low Activity Customer</td>\n",
       "      <td>31-40</td>\n",
       "      <td>009950-040525</td>\n",
       "      <td>parent</td>\n",
       "      <td>Other Products</td>\n",
       "    </tr>\n",
       "  </tbody>\n",
       "</table>\n",
       "</div>"
      ],
      "text/plain": [
       "   order_id  user_id  order_number  orders_day_of_week  order_hour_of_day  \\\n",
       "0   2539329        1             1                   2                  8   \n",
       "1   2398795        1             2                   3                  7   \n",
       "2    473747        1             3                   3                 12   \n",
       "3   2254736        1             4                   4                  7   \n",
       "4    431534        1             5                   4                 15   \n",
       "\n",
       "   days_since_prior_order  first_order  product_id  add_to_cart_order  \\\n",
       "0                     NaN         True         196                  1   \n",
       "1                    15.0        False         196                  1   \n",
       "2                    21.0        False         196                  1   \n",
       "3                    29.0        False         196                  1   \n",
       "4                    28.0        False         196                  1   \n",
       "\n",
       "   reordered _merge product_name  aisle_id  department_id  prices  \\\n",
       "0          0   both         Soda        77              7     9.0   \n",
       "1          1   both         Soda        77              7     9.0   \n",
       "2          1   both         Soda        77              7     9.0   \n",
       "3          1   both         Soda        77              7     9.0   \n",
       "4          1   both         Soda        77              7     9.0   \n",
       "\n",
       "     price_range_loc     busiest_day   busiest_day_2 busiest_period_of_day  \\\n",
       "0  Mid-range product  Regularly busy  Regularly busy         Fewest orders   \n",
       "1  Mid-range product  Regularly busy    Slowest days         Fewest orders   \n",
       "2  Mid-range product  Regularly busy    Slowest days         Fewest orders   \n",
       "3  Mid-range product      Least busy  Regularly busy         Fewest orders   \n",
       "4  Mid-range product      Least busy  Regularly busy         Fewest orders   \n",
       "\n",
       "   average_price spending_flag  gender    state  age date_joined  \\\n",
       "0       6.367797   Low Spender  Female  Alabama   31   2/17/2019   \n",
       "1       6.367797   Low Spender  Female  Alabama   31   2/17/2019   \n",
       "2       6.367797   Low Spender  Female  Alabama   31   2/17/2019   \n",
       "3       6.367797   Low Spender  Female  Alabama   31   2/17/2019   \n",
       "4       6.367797   Low Spender  Female  Alabama   31   2/17/2019   \n",
       "\n",
       "   number_of_dependants marital_status  income region  max_order  \\\n",
       "0                     3        married   40423  South         10   \n",
       "1                     3        married   40423  South         10   \n",
       "2                     3        married   40423  South         10   \n",
       "3                     3        married   40423  South         10   \n",
       "4                     3        married   40423  South         10   \n",
       "\n",
       "                exclude_flag age_group   income_range parental_status  \\\n",
       "0  Non-Low Activity Customer     31-40  009950-040525          parent   \n",
       "1  Non-Low Activity Customer     31-40  009950-040525          parent   \n",
       "2  Non-Low Activity Customer     31-40  009950-040525          parent   \n",
       "3  Non-Low Activity Customer     31-40  009950-040525          parent   \n",
       "4  Non-Low Activity Customer     31-40  009950-040525          parent   \n",
       "\n",
       "  selling_performance  \n",
       "0      Other Products  \n",
       "1      Other Products  \n",
       "2      Other Products  \n",
       "3      Other Products  \n",
       "4      Other Products  "
      ]
     },
     "execution_count": 7,
     "metadata": {},
     "output_type": "execute_result"
    }
   ],
   "source": [
    "#Lets see the head of the data\n",
    "pd.set_option(\"display.max_columns\", None)\n",
    "df_data_merged_A.head()"
   ]
  },
  {
   "cell_type": "markdown",
   "id": "a0704ced",
   "metadata": {},
   "source": [
    "Let's check the departments to see high frequency and product orders"
   ]
  },
  {
   "cell_type": "markdown",
   "id": "4e750e91",
   "metadata": {},
   "source": [
    "Need to give each department id a string."
   ]
  },
  {
   "cell_type": "code",
   "execution_count": 8,
   "id": "b20a93c1",
   "metadata": {},
   "outputs": [],
   "source": [
    "# Import department data \n",
    "df_dep = pd.read_csv(os.path.join(path, '02 Data', 'Original Data', 'departments.csv'), index_col = False)"
   ]
  },
  {
   "cell_type": "code",
   "execution_count": 9,
   "id": "2f9790a2",
   "metadata": {},
   "outputs": [
    {
     "data": {
      "text/html": [
       "<div>\n",
       "<style scoped>\n",
       "    .dataframe tbody tr th:only-of-type {\n",
       "        vertical-align: middle;\n",
       "    }\n",
       "\n",
       "    .dataframe tbody tr th {\n",
       "        vertical-align: top;\n",
       "    }\n",
       "\n",
       "    .dataframe thead th {\n",
       "        text-align: right;\n",
       "    }\n",
       "</style>\n",
       "<table border=\"1\" class=\"dataframe\">\n",
       "  <thead>\n",
       "    <tr style=\"text-align: right;\">\n",
       "      <th></th>\n",
       "      <th>department_id</th>\n",
       "      <th>1</th>\n",
       "      <th>2</th>\n",
       "      <th>3</th>\n",
       "      <th>4</th>\n",
       "      <th>5</th>\n",
       "      <th>6</th>\n",
       "      <th>7</th>\n",
       "      <th>8</th>\n",
       "      <th>9</th>\n",
       "      <th>10</th>\n",
       "      <th>11</th>\n",
       "      <th>12</th>\n",
       "      <th>13</th>\n",
       "      <th>14</th>\n",
       "      <th>15</th>\n",
       "      <th>16</th>\n",
       "      <th>17</th>\n",
       "      <th>18</th>\n",
       "      <th>19</th>\n",
       "      <th>20</th>\n",
       "      <th>21</th>\n",
       "    </tr>\n",
       "  </thead>\n",
       "  <tbody>\n",
       "    <tr>\n",
       "      <th>0</th>\n",
       "      <td>department</td>\n",
       "      <td>frozen</td>\n",
       "      <td>other</td>\n",
       "      <td>bakery</td>\n",
       "      <td>produce</td>\n",
       "      <td>alcohol</td>\n",
       "      <td>international</td>\n",
       "      <td>beverages</td>\n",
       "      <td>pets</td>\n",
       "      <td>dry goods pasta</td>\n",
       "      <td>bulk</td>\n",
       "      <td>personal care</td>\n",
       "      <td>meat seafood</td>\n",
       "      <td>pantry</td>\n",
       "      <td>breakfast</td>\n",
       "      <td>canned goods</td>\n",
       "      <td>dairy eggs</td>\n",
       "      <td>household</td>\n",
       "      <td>babies</td>\n",
       "      <td>snacks</td>\n",
       "      <td>deli</td>\n",
       "      <td>missing</td>\n",
       "    </tr>\n",
       "  </tbody>\n",
       "</table>\n",
       "</div>"
      ],
      "text/plain": [
       "  department_id       1      2       3        4        5              6  \\\n",
       "0    department  frozen  other  bakery  produce  alcohol  international   \n",
       "\n",
       "           7     8                9    10             11            12  \\\n",
       "0  beverages  pets  dry goods pasta  bulk  personal care  meat seafood   \n",
       "\n",
       "       13         14            15          16         17      18      19  \\\n",
       "0  pantry  breakfast  canned goods  dairy eggs  household  babies  snacks   \n",
       "\n",
       "     20       21  \n",
       "0  deli  missing  "
      ]
     },
     "execution_count": 9,
     "metadata": {},
     "output_type": "execute_result"
    }
   ],
   "source": [
    "#Display\n",
    "df_dep.head()"
   ]
  },
  {
   "cell_type": "markdown",
   "id": "5c5e543c",
   "metadata": {},
   "source": [
    "Need to transpose it"
   ]
  },
  {
   "cell_type": "code",
   "execution_count": 10,
   "id": "3ea5b417",
   "metadata": {},
   "outputs": [
    {
     "data": {
      "text/html": [
       "<div>\n",
       "<style scoped>\n",
       "    .dataframe tbody tr th:only-of-type {\n",
       "        vertical-align: middle;\n",
       "    }\n",
       "\n",
       "    .dataframe tbody tr th {\n",
       "        vertical-align: top;\n",
       "    }\n",
       "\n",
       "    .dataframe thead th {\n",
       "        text-align: right;\n",
       "    }\n",
       "</style>\n",
       "<table border=\"1\" class=\"dataframe\">\n",
       "  <thead>\n",
       "    <tr style=\"text-align: right;\">\n",
       "      <th></th>\n",
       "      <th>0</th>\n",
       "    </tr>\n",
       "  </thead>\n",
       "  <tbody>\n",
       "    <tr>\n",
       "      <th>department_id</th>\n",
       "      <td>department</td>\n",
       "    </tr>\n",
       "    <tr>\n",
       "      <th>1</th>\n",
       "      <td>frozen</td>\n",
       "    </tr>\n",
       "    <tr>\n",
       "      <th>2</th>\n",
       "      <td>other</td>\n",
       "    </tr>\n",
       "    <tr>\n",
       "      <th>3</th>\n",
       "      <td>bakery</td>\n",
       "    </tr>\n",
       "    <tr>\n",
       "      <th>4</th>\n",
       "      <td>produce</td>\n",
       "    </tr>\n",
       "    <tr>\n",
       "      <th>5</th>\n",
       "      <td>alcohol</td>\n",
       "    </tr>\n",
       "    <tr>\n",
       "      <th>6</th>\n",
       "      <td>international</td>\n",
       "    </tr>\n",
       "    <tr>\n",
       "      <th>7</th>\n",
       "      <td>beverages</td>\n",
       "    </tr>\n",
       "    <tr>\n",
       "      <th>8</th>\n",
       "      <td>pets</td>\n",
       "    </tr>\n",
       "    <tr>\n",
       "      <th>9</th>\n",
       "      <td>dry goods pasta</td>\n",
       "    </tr>\n",
       "    <tr>\n",
       "      <th>10</th>\n",
       "      <td>bulk</td>\n",
       "    </tr>\n",
       "    <tr>\n",
       "      <th>11</th>\n",
       "      <td>personal care</td>\n",
       "    </tr>\n",
       "    <tr>\n",
       "      <th>12</th>\n",
       "      <td>meat seafood</td>\n",
       "    </tr>\n",
       "    <tr>\n",
       "      <th>13</th>\n",
       "      <td>pantry</td>\n",
       "    </tr>\n",
       "    <tr>\n",
       "      <th>14</th>\n",
       "      <td>breakfast</td>\n",
       "    </tr>\n",
       "    <tr>\n",
       "      <th>15</th>\n",
       "      <td>canned goods</td>\n",
       "    </tr>\n",
       "    <tr>\n",
       "      <th>16</th>\n",
       "      <td>dairy eggs</td>\n",
       "    </tr>\n",
       "    <tr>\n",
       "      <th>17</th>\n",
       "      <td>household</td>\n",
       "    </tr>\n",
       "    <tr>\n",
       "      <th>18</th>\n",
       "      <td>babies</td>\n",
       "    </tr>\n",
       "    <tr>\n",
       "      <th>19</th>\n",
       "      <td>snacks</td>\n",
       "    </tr>\n",
       "    <tr>\n",
       "      <th>20</th>\n",
       "      <td>deli</td>\n",
       "    </tr>\n",
       "    <tr>\n",
       "      <th>21</th>\n",
       "      <td>missing</td>\n",
       "    </tr>\n",
       "  </tbody>\n",
       "</table>\n",
       "</div>"
      ],
      "text/plain": [
       "                             0\n",
       "department_id       department\n",
       "1                       frozen\n",
       "2                        other\n",
       "3                       bakery\n",
       "4                      produce\n",
       "5                      alcohol\n",
       "6                international\n",
       "7                    beverages\n",
       "8                         pets\n",
       "9              dry goods pasta\n",
       "10                        bulk\n",
       "11               personal care\n",
       "12                meat seafood\n",
       "13                      pantry\n",
       "14                   breakfast\n",
       "15                canned goods\n",
       "16                  dairy eggs\n",
       "17                   household\n",
       "18                      babies\n",
       "19                      snacks\n",
       "20                        deli\n",
       "21                     missing"
      ]
     },
     "execution_count": 10,
     "metadata": {},
     "output_type": "execute_result"
    }
   ],
   "source": [
    "# Transpose the table\n",
    "df_dep.T"
   ]
  },
  {
   "cell_type": "code",
   "execution_count": 11,
   "id": "73fd3793",
   "metadata": {},
   "outputs": [],
   "source": [
    "# Creating new column for department names \n",
    "\n",
    "\n",
    "df_data_merged_A.loc[df_data_merged_A['department_id'] == 1, 'department_name'] = 'frozen'\n",
    "df_data_merged_A.loc[df_data_merged_A['department_id'] == 2, 'department_name'] = 'other'\n",
    "df_data_merged_A.loc[df_data_merged_A['department_id'] == 3, 'department_name'] = 'bakery'\n",
    "df_data_merged_A.loc[df_data_merged_A['department_id'] == 4, 'department_name'] = 'produce'\n",
    "df_data_merged_A.loc[df_data_merged_A['department_id'] == 5, 'department_name'] = 'alcohol'\n",
    "df_data_merged_A.loc[df_data_merged_A['department_id'] == 6, 'department_name'] = 'international'\n",
    "df_data_merged_A.loc[df_data_merged_A['department_id'] == 7, 'department_name'] = 'beverages'\n",
    "df_data_merged_A.loc[df_data_merged_A['department_id'] == 8, 'department_name'] = 'pets'\n",
    "df_data_merged_A.loc[df_data_merged_A['department_id'] == 9, 'department_name'] = 'dry goods pasta'\n",
    "df_data_merged_A.loc[df_data_merged_A['department_id'] == 10, 'department_name'] = 'bulk'\n",
    "df_data_merged_A.loc[df_data_merged_A['department_id'] == 11, 'department_name'] = 'personal care'\n",
    "df_data_merged_A.loc[df_data_merged_A['department_id'] == 12, 'department_name'] = 'meat seafood'\n",
    "df_data_merged_A.loc[df_data_merged_A['department_id'] == 13, 'department_name'] = 'pantry'\n",
    "df_data_merged_A.loc[df_data_merged_A['department_id'] == 14, 'department_name'] = 'breakfast'\n",
    "df_data_merged_A.loc[df_data_merged_A['department_id'] == 15, 'department_name'] = 'canned goods'\n",
    "df_data_merged_A.loc[df_data_merged_A['department_id'] == 16, 'department_name'] = 'dairy eggs'\n",
    "df_data_merged_A.loc[df_data_merged_A['department_id'] == 17, 'department_name'] = 'households'\n",
    "df_data_merged_A.loc[df_data_merged_A['department_id'] == 18, 'department_name'] = 'babies'\n",
    "df_data_merged_A.loc[df_data_merged_A['department_id'] == 19, 'department_name'] = 'snacks'\n",
    "df_data_merged_A.loc[df_data_merged_A['department_id'] == 20, 'department_name'] = 'deli'\n",
    "df_data_merged_A.loc[df_data_merged_A['department_id'] == 21, 'department_name'] = 'missing'"
   ]
  },
  {
   "cell_type": "code",
   "execution_count": 12,
   "id": "64f6609c",
   "metadata": {},
   "outputs": [
    {
     "data": {
      "text/plain": [
       "produce            9479291\n",
       "dairy eggs         5393620\n",
       "snacks             2887550\n",
       "beverages          2688123\n",
       "frozen             2234743\n",
       "pantry             1875369\n",
       "bakery             1172428\n",
       "canned goods       1068058\n",
       "deli               1051249\n",
       "dry goods pasta     866627\n",
       "households          738666\n",
       "meat seafood        708927\n",
       "breakfast           703033\n",
       "personal care       447572\n",
       "babies              423802\n",
       "international       269253\n",
       "alcohol             153696\n",
       "pets                 97716\n",
       "missing              69145\n",
       "other                36291\n",
       "bulk                 34573\n",
       "Name: department_name, dtype: int64"
      ]
     },
     "execution_count": 12,
     "metadata": {},
     "output_type": "execute_result"
    }
   ],
   "source": [
    "# Test\n",
    "df_data_merged_A['department_name'].value_counts()"
   ]
  },
  {
   "cell_type": "code",
   "execution_count": 164,
   "id": "4aa19f3c",
   "metadata": {},
   "outputs": [
    {
     "data": {
      "image/png": "[encoded data removed]",
      "text/plain": [
       "<Figure size 432x288 with 1 Axes>"
      ]
     },
     "metadata": {
      "needs_background": "light"
     },
     "output_type": "display_data"
    }
   ],
   "source": [
    "# Create visual to show which departments sell the most\n",
    "top_selling_departments_bar = df_data_merged_A['department_name'].value_counts().plot.bar()\n",
    "plt.ylabel('Number of Orders (In Millions)')\n",
    "plt.xlabel('Departments')\n",
    "plt.title('Number of Orders by Department')\n",
    "plt.tight_layout()"
   ]
  },
  {
   "cell_type": "code",
   "execution_count": 165,
   "id": "11790b94",
   "metadata": {},
   "outputs": [],
   "source": [
    "# Export top selling departments\n",
    "top_selling_departments_bar.figure.savefig(os.path.join(path,'04 Analysis','Visualizations','top_selling_departments.png'))"
   ]
  },
  {
   "cell_type": "markdown",
   "id": "2f00c6d5",
   "metadata": {},
   "source": [
    "Top 5 departments are produce, eggs, snacks, beverages and frozen. "
   ]
  },
  {
   "cell_type": "code",
   "execution_count": 15,
   "id": "5d5fa4f3",
   "metadata": {},
   "outputs": [],
   "source": [
    "# Check to see how much of sales these departments make of total sales.\n",
    "dept_sales = df_data_merged_A.groupby('department_name').agg({'prices':['sum']})"
   ]
  },
  {
   "cell_type": "code",
   "execution_count": 16,
   "id": "f68ef27f",
   "metadata": {},
   "outputs": [],
   "source": [
    "#copy it to excel where we can get the total\n",
    "dept_sales.to_clipboard()"
   ]
  },
  {
   "cell_type": "markdown",
   "id": "638be288",
   "metadata": {},
   "source": [
    "These 5 departments make up a total of 68% of all the departments sales. Good information for the marketing department. I will use these 5 departments going forward on other customer profiles to see if we can come up with a marketing strategy for the marketing department. Going to flag these departments as high performing departments."
   ]
  },
  {
   "cell_type": "code",
   "execution_count": 17,
   "id": "babd88e0",
   "metadata": {},
   "outputs": [],
   "source": [
    "high_performing_department = []\n",
    "\n",
    "for value in df_data_merged_A[\"department_name\"]:\n",
    "  if value == 'produce':\n",
    "    high_performing_department.append(\"High Performing Department\")\n",
    "  elif value == 'dairy eggs':\n",
    "    high_performing_department.append(\"High Performing Department\")\n",
    "  elif value == 'snacks':\n",
    "    high_performing_department.append(\"High Performing Department\")\n",
    "  elif value == 'beverages':\n",
    "    high_performing_department.append(\"High Performing Department\")\n",
    "  elif value == 'frozen':\n",
    "    high_performing_department.append(\"High Performing Department\")\n",
    "  else:\n",
    "    high_performing_department.append(\"Non-High Performing Department\")"
   ]
  },
  {
   "cell_type": "code",
   "execution_count": 18,
   "id": "e0a83d92",
   "metadata": {},
   "outputs": [
    {
     "data": {
      "text/plain": [
       "['High Performing Department',\n",
       " 'High Performing Department',\n",
       " 'High Performing Department',\n",
       " 'High Performing Department',\n",
       " 'High Performing Department',\n",
       " 'High Performing Department',\n",
       " 'High Performing Department',\n",
       " 'High Performing Department',\n",
       " 'High Performing Department',\n",
       " 'High Performing Department',\n",
       " 'High Performing Department',\n",
       " 'High Performing Department',\n",
       " 'High Performing Department',\n",
       " 'High Performing Department',\n",
       " 'High Performing Department',\n",
       " 'High Performing Department',\n",
       " 'High Performing Department',\n",
       " 'High Performing Department',\n",
       " 'High Performing Department',\n",
       " 'High Performing Department',\n",
       " 'High Performing Department',\n",
       " 'High Performing Department',\n",
       " 'High Performing Department',\n",
       " 'Non-High Performing Department',\n",
       " 'Non-High Performing Department',\n",
       " 'High Performing Department',\n",
       " 'High Performing Department',\n",
       " 'High Performing Department',\n",
       " 'High Performing Department',\n",
       " 'High Performing Department',\n",
       " 'High Performing Department',\n",
       " 'High Performing Department',\n",
       " 'High Performing Department',\n",
       " 'High Performing Department',\n",
       " 'High Performing Department',\n",
       " 'High Performing Department',\n",
       " 'Non-High Performing Department',\n",
       " 'Non-High Performing Department',\n",
       " 'Non-High Performing Department',\n",
       " 'High Performing Department',\n",
       " 'High Performing Department',\n",
       " 'High Performing Department',\n",
       " 'High Performing Department',\n",
       " 'High Performing Department',\n",
       " 'High Performing Department',\n",
       " 'High Performing Department',\n",
       " 'High Performing Department',\n",
       " 'Non-High Performing Department',\n",
       " 'High Performing Department',\n",
       " 'High Performing Department',\n",
       " 'High Performing Department',\n",
       " 'High Performing Department',\n",
       " 'High Performing Department',\n",
       " 'High Performing Department',\n",
       " 'High Performing Department',\n",
       " 'High Performing Department',\n",
       " 'High Performing Department',\n",
       " 'High Performing Department',\n",
       " 'High Performing Department',\n",
       " 'High Performing Department',\n",
       " 'High Performing Department',\n",
       " 'High Performing Department',\n",
       " 'High Performing Department',\n",
       " 'High Performing Department',\n",
       " 'High Performing Department',\n",
       " 'High Performing Department',\n",
       " 'High Performing Department',\n",
       " 'High Performing Department',\n",
       " 'High Performing Department',\n",
       " 'High Performing Department',\n",
       " 'High Performing Department',\n",
       " 'High Performing Department',\n",
       " 'High Performing Department',\n",
       " 'High Performing Department',\n",
       " 'High Performing Department',\n",
       " 'High Performing Department',\n",
       " 'High Performing Department',\n",
       " 'High Performing Department',\n",
       " 'High Performing Department',\n",
       " 'High Performing Department',\n",
       " 'High Performing Department',\n",
       " 'High Performing Department',\n",
       " 'High Performing Department',\n",
       " 'High Performing Department',\n",
       " 'High Performing Department',\n",
       " 'High Performing Department',\n",
       " 'High Performing Department',\n",
       " 'High Performing Department',\n",
       " 'High Performing Department',\n",
       " 'High Performing Department',\n",
       " 'High Performing Department',\n",
       " 'High Performing Department',\n",
       " 'High Performing Department',\n",
       " 'High Performing Department',\n",
       " 'High Performing Department',\n",
       " 'High Performing Department',\n",
       " 'High Performing Department',\n",
       " 'High Performing Department',\n",
       " 'High Performing Department',\n",
       " 'High Performing Department',\n",
       " 'High Performing Department',\n",
       " 'High Performing Department',\n",
       " 'High Performing Department',\n",
       " 'High Performing Department',\n",
       " 'High Performing Department',\n",
       " 'High Performing Department',\n",
       " 'High Performing Department',\n",
       " 'High Performing Department',\n",
       " 'High Performing Department',\n",
       " 'High Performing Department',\n",
       " 'High Performing Department',\n",
       " 'High Performing Department',\n",
       " 'High Performing Department',\n",
       " 'High Performing Department',\n",
       " 'High Performing Department',\n",
       " 'High Performing Department',\n",
       " 'High Performing Department',\n",
       " 'High Performing Department',\n",
       " 'High Performing Department',\n",
       " 'High Performing Department',\n",
       " 'High Performing Department',\n",
       " 'High Performing Department',\n",
       " 'Non-High Performing Department',\n",
       " 'High Performing Department',\n",
       " 'High Performing Department',\n",
       " 'High Performing Department',\n",
       " 'High Performing Department',\n",
       " 'High Performing Department',\n",
       " 'High Performing Department',\n",
       " 'High Performing Department',\n",
       " 'High Performing Department',\n",
       " 'High Performing Department',\n",
       " 'High Performing Department',\n",
       " 'High Performing Department',\n",
       " 'High Performing Department',\n",
       " 'High Performing Department',\n",
       " 'High Performing Department',\n",
       " 'High Performing Department',\n",
       " 'Non-High Performing Department',\n",
       " 'High Performing Department',\n",
       " 'Non-High Performing Department',\n",
       " 'Non-High Performing Department',\n",
       " 'Non-High Performing Department',\n",
       " 'High Performing Department',\n",
       " 'Non-High Performing Department',\n",
       " 'Non-High Performing Department',\n",
       " 'High Performing Department',\n",
       " 'High Performing Department',\n",
       " 'High Performing Department',\n",
       " 'High Performing Department',\n",
       " 'High Performing Department',\n",
       " 'High Performing Department',\n",
       " 'Non-High Performing Department',\n",
       " 'Non-High Performing Department',\n",
       " 'Non-High Performing Department',\n",
       " 'Non-High Performing Department',\n",
       " 'Non-High Performing Department',\n",
       " 'Non-High Performing Department',\n",
       " 'Non-High Performing Department',\n",
       " 'Non-High Performing Department',\n",
       " 'Non-High Performing Department',\n",
       " 'Non-High Performing Department',\n",
       " 'Non-High Performing Department',\n",
       " 'Non-High Performing Department',\n",
       " 'Non-High Performing Department',\n",
       " 'Non-High Performing Department',\n",
       " 'Non-High Performing Department',\n",
       " 'High Performing Department',\n",
       " 'High Performing Department',\n",
       " 'High Performing Department',\n",
       " 'High Performing Department',\n",
       " 'High Performing Department',\n",
       " 'High Performing Department',\n",
       " 'High Performing Department',\n",
       " 'High Performing Department',\n",
       " 'High Performing Department',\n",
       " 'High Performing Department',\n",
       " 'High Performing Department',\n",
       " 'High Performing Department',\n",
       " 'High Performing Department',\n",
       " 'High Performing Department',\n",
       " 'Non-High Performing Department',\n",
       " 'Non-High Performing Department',\n",
       " 'Non-High Performing Department',\n",
       " 'Non-High Performing Department',\n",
       " 'Non-High Performing Department',\n",
       " 'High Performing Department',\n",
       " 'High Performing Department',\n",
       " 'High Performing Department',\n",
       " 'High Performing Department',\n",
       " 'High Performing Department',\n",
       " 'High Performing Department',\n",
       " 'High Performing Department',\n",
       " 'High Performing Department',\n",
       " 'High Performing Department',\n",
       " 'High Performing Department',\n",
       " 'High Performing Department',\n",
       " 'High Performing Department',\n",
       " 'Non-High Performing Department',\n",
       " 'Non-High Performing Department',\n",
       " 'High Performing Department',\n",
       " 'High Performing Department',\n",
       " 'Non-High Performing Department',\n",
       " 'Non-High Performing Department',\n",
       " 'Non-High Performing Department',\n",
       " 'Non-High Performing Department',\n",
       " 'Non-High Performing Department',\n",
       " 'Non-High Performing Department',\n",
       " 'Non-High Performing Department',\n",
       " 'Non-High Performing Department',\n",
       " 'Non-High Performing Department',\n",
       " 'Non-High Performing Department',\n",
       " 'Non-High Performing Department',\n",
       " 'Non-High Performing Department',\n",
       " 'High Performing Department',\n",
       " 'High Performing Department',\n",
       " 'Non-High Performing Department',\n",
       " 'Non-High Performing Department',\n",
       " 'High Performing Department',\n",
       " 'High Performing Department',\n",
       " 'High Performing Department',\n",
       " 'High Performing Department',\n",
       " 'High Performing Department',\n",
       " 'High Performing Department',\n",
       " 'High Performing Department',\n",
       " 'High Performing Department',\n",
       " 'High Performing Department',\n",
       " 'High Performing Department',\n",
       " 'Non-High Performing Department',\n",
       " 'High Performing Department',\n",
       " 'High Performing Department',\n",
       " 'Non-High Performing Department',\n",
       " 'High Performing Department',\n",
       " 'High Performing Department',\n",
       " 'Non-High Performing Department',\n",
       " 'Non-High Performing Department',\n",
       " 'Non-High Performing Department',\n",
       " 'High Performing Department',\n",
       " 'High Performing Department',\n",
       " 'High Performing Department',\n",
       " 'High Performing Department',\n",
       " 'Non-High Performing Department',\n",
       " 'Non-High Performing Department',\n",
       " 'Non-High Performing Department',\n",
       " 'Non-High Performing Department',\n",
       " 'Non-High Performing Department',\n",
       " 'Non-High Performing Department',\n",
       " 'Non-High Performing Department',\n",
       " 'Non-High Performing Department',\n",
       " 'Non-High Performing Department',\n",
       " 'Non-High Performing Department',\n",
       " 'High Performing Department',\n",
       " 'High Performing Department',\n",
       " 'Non-High Performing Department',\n",
       " 'High Performing Department',\n",
       " 'High Performing Department',\n",
       " 'High Performing Department',\n",
       " 'High Performing Department',\n",
       " 'High Performing Department',\n",
       " 'High Performing Department',\n",
       " 'High Performing Department',\n",
       " 'High Performing Department',\n",
       " 'Non-High Performing Department',\n",
       " 'Non-High Performing Department',\n",
       " 'Non-High Performing Department',\n",
       " 'Non-High Performing Department',\n",
       " 'Non-High Performing Department',\n",
       " 'Non-High Performing Department',\n",
       " 'Non-High Performing Department',\n",
       " 'High Performing Department',\n",
       " 'Non-High Performing Department',\n",
       " 'High Performing Department',\n",
       " 'High Performing Department',\n",
       " 'High Performing Department',\n",
       " 'Non-High Performing Department',\n",
       " 'Non-High Performing Department',\n",
       " 'Non-High Performing Department',\n",
       " 'Non-High Performing Department',\n",
       " 'Non-High Performing Department',\n",
       " 'High Performing Department',\n",
       " 'High Performing Department',\n",
       " 'High Performing Department',\n",
       " 'High Performing Department',\n",
       " 'High Performing Department',\n",
       " 'High Performing Department',\n",
       " 'High Performing Department',\n",
       " 'High Performing Department',\n",
       " 'Non-High Performing Department',\n",
       " 'High Performing Department',\n",
       " 'High Performing Department',\n",
       " 'High Performing Department',\n",
       " 'High Performing Department',\n",
       " 'High Performing Department',\n",
       " 'Non-High Performing Department',\n",
       " 'High Performing Department',\n",
       " 'High Performing Department',\n",
       " 'High Performing Department',\n",
       " 'High Performing Department',\n",
       " 'High Performing Department',\n",
       " 'Non-High Performing Department',\n",
       " 'High Performing Department',\n",
       " 'Non-High Performing Department',\n",
       " 'High Performing Department',\n",
       " 'High Performing Department',\n",
       " 'Non-High Performing Department',\n",
       " 'Non-High Performing Department',\n",
       " 'Non-High Performing Department',\n",
       " 'High Performing Department',\n",
       " 'Non-High Performing Department',\n",
       " 'Non-High Performing Department',\n",
       " 'High Performing Department',\n",
       " 'High Performing Department',\n",
       " 'High Performing Department',\n",
       " 'Non-High Performing Department',\n",
       " 'High Performing Department',\n",
       " 'Non-High Performing Department',\n",
       " 'High Performing Department',\n",
       " 'High Performing Department',\n",
       " 'Non-High Performing Department',\n",
       " 'Non-High Performing Department',\n",
       " 'High Performing Department',\n",
       " 'Non-High Performing Department',\n",
       " 'Non-High Performing Department',\n",
       " 'Non-High Performing Department',\n",
       " 'Non-High Performing Department',\n",
       " 'Non-High Performing Department',\n",
       " 'Non-High Performing Department',\n",
       " 'Non-High Performing Department',\n",
       " 'Non-High Performing Department',\n",
       " 'High Performing Department',\n",
       " 'Non-High Performing Department',\n",
       " 'High Performing Department',\n",
       " 'Non-High Performing Department',\n",
       " 'Non-High Performing Department',\n",
       " 'Non-High Performing Department',\n",
       " 'High Performing Department',\n",
       " 'High Performing Department',\n",
       " 'High Performing Department',\n",
       " 'High Performing Department',\n",
       " 'High Performing Department',\n",
       " 'High Performing Department',\n",
       " 'High Performing Department',\n",
       " 'High Performing Department',\n",
       " 'High Performing Department',\n",
       " 'High Performing Department',\n",
       " 'High Performing Department',\n",
       " 'High Performing Department',\n",
       " 'High Performing Department',\n",
       " 'High Performing Department',\n",
       " 'High Performing Department',\n",
       " 'High Performing Department',\n",
       " 'High Performing Department',\n",
       " 'High Performing Department',\n",
       " 'High Performing Department',\n",
       " 'High Performing Department',\n",
       " 'High Performing Department',\n",
       " 'Non-High Performing Department',\n",
       " 'High Performing Department',\n",
       " 'High Performing Department',\n",
       " 'High Performing Department',\n",
       " 'High Performing Department',\n",
       " 'High Performing Department',\n",
       " 'High Performing Department',\n",
       " 'High Performing Department',\n",
       " 'High Performing Department',\n",
       " 'High Performing Department',\n",
       " 'High Performing Department',\n",
       " 'High Performing Department',\n",
       " 'High Performing Department',\n",
       " 'High Performing Department',\n",
       " 'High Performing Department',\n",
       " 'High Performing Department',\n",
       " 'High Performing Department',\n",
       " 'High Performing Department',\n",
       " 'High Performing Department',\n",
       " 'High Performing Department',\n",
       " 'High Performing Department',\n",
       " 'Non-High Performing Department',\n",
       " 'High Performing Department',\n",
       " 'High Performing Department',\n",
       " 'High Performing Department',\n",
       " 'High Performing Department',\n",
       " 'High Performing Department',\n",
       " 'High Performing Department',\n",
       " 'High Performing Department',\n",
       " 'High Performing Department',\n",
       " 'High Performing Department',\n",
       " 'High Performing Department',\n",
       " 'High Performing Department',\n",
       " 'High Performing Department',\n",
       " 'High Performing Department',\n",
       " 'High Performing Department',\n",
       " 'High Performing Department',\n",
       " 'High Performing Department',\n",
       " 'High Performing Department',\n",
       " 'High Performing Department',\n",
       " 'High Performing Department',\n",
       " 'High Performing Department',\n",
       " 'High Performing Department',\n",
       " 'High Performing Department',\n",
       " 'High Performing Department',\n",
       " 'High Performing Department',\n",
       " 'High Performing Department',\n",
       " 'High Performing Department',\n",
       " 'Non-High Performing Department',\n",
       " 'Non-High Performing Department',\n",
       " 'Non-High Performing Department',\n",
       " 'Non-High Performing Department',\n",
       " 'Non-High Performing Department',\n",
       " 'Non-High Performing Department',\n",
       " 'High Performing Department',\n",
       " 'High Performing Department',\n",
       " 'High Performing Department',\n",
       " 'High Performing Department',\n",
       " 'High Performing Department',\n",
       " 'High Performing Department',\n",
       " 'High Performing Department',\n",
       " 'High Performing Department',\n",
       " 'High Performing Department',\n",
       " 'High Performing Department',\n",
       " 'High Performing Department',\n",
       " 'High Performing Department',\n",
       " 'High Performing Department',\n",
       " 'High Performing Department',\n",
       " 'High Performing Department',\n",
       " 'High Performing Department',\n",
       " 'High Performing Department',\n",
       " 'High Performing Department',\n",
       " 'High Performing Department',\n",
       " 'High Performing Department',\n",
       " 'High Performing Department',\n",
       " 'High Performing Department',\n",
       " 'High Performing Department',\n",
       " 'High Performing Department',\n",
       " 'High Performing Department',\n",
       " 'High Performing Department',\n",
       " 'High Performing Department',\n",
       " 'High Performing Department',\n",
       " 'High Performing Department',\n",
       " 'High Performing Department',\n",
       " 'High Performing Department',\n",
       " 'High Performing Department',\n",
       " 'High Performing Department',\n",
       " 'High Performing Department',\n",
       " 'Non-High Performing Department',\n",
       " 'High Performing Department',\n",
       " 'High Performing Department',\n",
       " 'High Performing Department',\n",
       " 'High Performing Department',\n",
       " 'High Performing Department',\n",
       " 'High Performing Department',\n",
       " 'High Performing Department',\n",
       " 'High Performing Department',\n",
       " 'Non-High Performing Department',\n",
       " 'Non-High Performing Department',\n",
       " 'Non-High Performing Department',\n",
       " 'Non-High Performing Department',\n",
       " 'High Performing Department',\n",
       " 'High Performing Department',\n",
       " 'High Performing Department',\n",
       " 'High Performing Department',\n",
       " 'High Performing Department',\n",
       " 'High Performing Department',\n",
       " 'High Performing Department',\n",
       " 'High Performing Department',\n",
       " 'High Performing Department',\n",
       " 'High Performing Department',\n",
       " 'Non-High Performing Department',\n",
       " 'Non-High Performing Department',\n",
       " 'Non-High Performing Department',\n",
       " 'High Performing Department',\n",
       " 'High Performing Department',\n",
       " 'High Performing Department',\n",
       " 'High Performing Department',\n",
       " 'High Performing Department',\n",
       " 'Non-High Performing Department',\n",
       " 'Non-High Performing Department',\n",
       " 'Non-High Performing Department',\n",
       " 'Non-High Performing Department',\n",
       " 'High Performing Department',\n",
       " 'High Performing Department',\n",
       " 'High Performing Department',\n",
       " 'High Performing Department',\n",
       " 'High Performing Department',\n",
       " 'High Performing Department',\n",
       " 'High Performing Department',\n",
       " 'High Performing Department',\n",
       " 'High Performing Department',\n",
       " 'High Performing Department',\n",
       " 'High Performing Department',\n",
       " 'High Performing Department',\n",
       " 'High Performing Department',\n",
       " 'High Performing Department',\n",
       " 'High Performing Department',\n",
       " 'High Performing Department',\n",
       " 'High Performing Department',\n",
       " 'High Performing Department',\n",
       " 'High Performing Department',\n",
       " 'High Performing Department',\n",
       " 'High Performing Department',\n",
       " 'High Performing Department',\n",
       " 'Non-High Performing Department',\n",
       " 'High Performing Department',\n",
       " 'Non-High Performing Department',\n",
       " 'High Performing Department',\n",
       " 'High Performing Department',\n",
       " 'High Performing Department',\n",
       " 'High Performing Department',\n",
       " 'High Performing Department',\n",
       " 'Non-High Performing Department',\n",
       " 'High Performing Department',\n",
       " 'Non-High Performing Department',\n",
       " 'High Performing Department',\n",
       " 'High Performing Department',\n",
       " 'High Performing Department',\n",
       " 'High Performing Department',\n",
       " 'Non-High Performing Department',\n",
       " 'High Performing Department',\n",
       " 'Non-High Performing Department',\n",
       " 'Non-High Performing Department',\n",
       " 'High Performing Department',\n",
       " 'High Performing Department',\n",
       " 'High Performing Department',\n",
       " 'High Performing Department',\n",
       " 'High Performing Department',\n",
       " 'High Performing Department',\n",
       " 'High Performing Department',\n",
       " 'High Performing Department',\n",
       " 'High Performing Department',\n",
       " 'High Performing Department',\n",
       " 'High Performing Department',\n",
       " 'High Performing Department',\n",
       " 'High Performing Department',\n",
       " 'High Performing Department',\n",
       " 'High Performing Department',\n",
       " 'Non-High Performing Department',\n",
       " 'High Performing Department',\n",
       " 'Non-High Performing Department',\n",
       " 'High Performing Department',\n",
       " 'High Performing Department',\n",
       " 'High Performing Department',\n",
       " 'High Performing Department',\n",
       " 'High Performing Department',\n",
       " 'Non-High Performing Department',\n",
       " 'High Performing Department',\n",
       " 'High Performing Department',\n",
       " 'High Performing Department',\n",
       " 'High Performing Department',\n",
       " 'High Performing Department',\n",
       " 'High Performing Department',\n",
       " 'High Performing Department',\n",
       " 'High Performing Department',\n",
       " 'Non-High Performing Department',\n",
       " 'High Performing Department',\n",
       " 'High Performing Department',\n",
       " 'High Performing Department',\n",
       " 'High Performing Department',\n",
       " 'High Performing Department',\n",
       " 'High Performing Department',\n",
       " 'High Performing Department',\n",
       " 'Non-High Performing Department',\n",
       " 'Non-High Performing Department',\n",
       " 'High Performing Department',\n",
       " 'High Performing Department',\n",
       " 'High Performing Department',\n",
       " 'High Performing Department',\n",
       " 'High Performing Department',\n",
       " 'High Performing Department',\n",
       " 'Non-High Performing Department',\n",
       " 'High Performing Department',\n",
       " 'High Performing Department',\n",
       " 'High Performing Department',\n",
       " 'High Performing Department',\n",
       " 'High Performing Department',\n",
       " 'Non-High Performing Department',\n",
       " 'High Performing Department',\n",
       " 'High Performing Department',\n",
       " 'High Performing Department',\n",
       " 'High Performing Department',\n",
       " 'High Performing Department',\n",
       " 'High Performing Department',\n",
       " 'High Performing Department',\n",
       " 'High Performing Department',\n",
       " 'High Performing Department',\n",
       " 'High Performing Department',\n",
       " 'High Performing Department',\n",
       " 'High Performing Department',\n",
       " 'Non-High Performing Department',\n",
       " 'High Performing Department',\n",
       " 'High Performing Department',\n",
       " 'High Performing Department',\n",
       " 'High Performing Department',\n",
       " 'Non-High Performing Department',\n",
       " 'High Performing Department',\n",
       " 'High Performing Department',\n",
       " 'High Performing Department',\n",
       " 'High Performing Department',\n",
       " 'High Performing Department',\n",
       " 'High Performing Department',\n",
       " 'High Performing Department',\n",
       " 'High Performing Department',\n",
       " 'High Performing Department',\n",
       " 'High Performing Department',\n",
       " 'High Performing Department',\n",
       " 'High Performing Department',\n",
       " 'High Performing Department',\n",
       " 'High Performing Department',\n",
       " 'Non-High Performing Department',\n",
       " 'Non-High Performing Department',\n",
       " 'Non-High Performing Department',\n",
       " 'Non-High Performing Department',\n",
       " 'Non-High Performing Department',\n",
       " 'Non-High Performing Department',\n",
       " 'Non-High Performing Department',\n",
       " 'Non-High Performing Department',\n",
       " 'High Performing Department',\n",
       " 'High Performing Department',\n",
       " 'High Performing Department',\n",
       " 'High Performing Department',\n",
       " 'High Performing Department',\n",
       " 'High Performing Department',\n",
       " 'High Performing Department',\n",
       " 'Non-High Performing Department',\n",
       " 'Non-High Performing Department',\n",
       " 'Non-High Performing Department',\n",
       " 'High Performing Department',\n",
       " 'High Performing Department',\n",
       " 'High Performing Department',\n",
       " 'High Performing Department',\n",
       " 'High Performing Department',\n",
       " 'High Performing Department',\n",
       " 'High Performing Department',\n",
       " 'High Performing Department',\n",
       " 'High Performing Department',\n",
       " 'High Performing Department',\n",
       " 'High Performing Department',\n",
       " 'High Performing Department',\n",
       " 'High Performing Department',\n",
       " 'High Performing Department',\n",
       " 'High Performing Department',\n",
       " 'Non-High Performing Department',\n",
       " 'High Performing Department',\n",
       " 'High Performing Department',\n",
       " 'High Performing Department',\n",
       " 'High Performing Department',\n",
       " 'High Performing Department',\n",
       " 'High Performing Department',\n",
       " 'High Performing Department',\n",
       " 'High Performing Department',\n",
       " 'High Performing Department',\n",
       " 'High Performing Department',\n",
       " 'High Performing Department',\n",
       " 'High Performing Department',\n",
       " 'High Performing Department',\n",
       " 'High Performing Department',\n",
       " 'High Performing Department',\n",
       " 'High Performing Department',\n",
       " 'High Performing Department',\n",
       " 'High Performing Department',\n",
       " 'High Performing Department',\n",
       " 'Non-High Performing Department',\n",
       " 'Non-High Performing Department',\n",
       " 'Non-High Performing Department',\n",
       " 'High Performing Department',\n",
       " 'High Performing Department',\n",
       " 'High Performing Department',\n",
       " 'High Performing Department',\n",
       " 'High Performing Department',\n",
       " 'High Performing Department',\n",
       " 'High Performing Department',\n",
       " 'High Performing Department',\n",
       " 'Non-High Performing Department',\n",
       " 'Non-High Performing Department',\n",
       " 'Non-High Performing Department',\n",
       " 'High Performing Department',\n",
       " 'High Performing Department',\n",
       " 'High Performing Department',\n",
       " 'High Performing Department',\n",
       " 'High Performing Department',\n",
       " 'High Performing Department',\n",
       " 'High Performing Department',\n",
       " 'High Performing Department',\n",
       " 'High Performing Department',\n",
       " 'High Performing Department',\n",
       " 'High Performing Department',\n",
       " 'Non-High Performing Department',\n",
       " 'Non-High Performing Department',\n",
       " 'High Performing Department',\n",
       " 'Non-High Performing Department',\n",
       " 'High Performing Department',\n",
       " 'High Performing Department',\n",
       " 'High Performing Department',\n",
       " 'Non-High Performing Department',\n",
       " 'High Performing Department',\n",
       " 'High Performing Department',\n",
       " 'Non-High Performing Department',\n",
       " 'High Performing Department',\n",
       " 'High Performing Department',\n",
       " 'High Performing Department',\n",
       " 'Non-High Performing Department',\n",
       " 'Non-High Performing Department',\n",
       " 'High Performing Department',\n",
       " 'Non-High Performing Department',\n",
       " 'High Performing Department',\n",
       " 'High Performing Department',\n",
       " 'High Performing Department',\n",
       " 'High Performing Department',\n",
       " 'High Performing Department',\n",
       " 'High Performing Department',\n",
       " 'High Performing Department',\n",
       " 'High Performing Department',\n",
       " 'High Performing Department',\n",
       " 'High Performing Department',\n",
       " 'High Performing Department',\n",
       " 'High Performing Department',\n",
       " 'High Performing Department',\n",
       " 'High Performing Department',\n",
       " 'High Performing Department',\n",
       " 'High Performing Department',\n",
       " 'High Performing Department',\n",
       " 'High Performing Department',\n",
       " 'High Performing Department',\n",
       " 'High Performing Department',\n",
       " 'High Performing Department',\n",
       " 'High Performing Department',\n",
       " 'High Performing Department',\n",
       " 'High Performing Department',\n",
       " 'Non-High Performing Department',\n",
       " 'High Performing Department',\n",
       " 'High Performing Department',\n",
       " 'Non-High Performing Department',\n",
       " 'High Performing Department',\n",
       " 'High Performing Department',\n",
       " 'High Performing Department',\n",
       " 'High Performing Department',\n",
       " 'Non-High Performing Department',\n",
       " 'Non-High Performing Department',\n",
       " 'Non-High Performing Department',\n",
       " 'High Performing Department',\n",
       " 'Non-High Performing Department',\n",
       " 'High Performing Department',\n",
       " 'High Performing Department',\n",
       " 'High Performing Department',\n",
       " 'High Performing Department',\n",
       " 'High Performing Department',\n",
       " 'High Performing Department',\n",
       " 'High Performing Department',\n",
       " 'High Performing Department',\n",
       " 'High Performing Department',\n",
       " 'High Performing Department',\n",
       " 'High Performing Department',\n",
       " 'High Performing Department',\n",
       " 'High Performing Department',\n",
       " 'High Performing Department',\n",
       " 'Non-High Performing Department',\n",
       " 'Non-High Performing Department',\n",
       " 'Non-High Performing Department',\n",
       " 'Non-High Performing Department',\n",
       " 'Non-High Performing Department',\n",
       " 'Non-High Performing Department',\n",
       " 'High Performing Department',\n",
       " 'High Performing Department',\n",
       " 'High Performing Department',\n",
       " 'High Performing Department',\n",
       " 'High Performing Department',\n",
       " 'High Performing Department',\n",
       " 'High Performing Department',\n",
       " 'High Performing Department',\n",
       " 'High Performing Department',\n",
       " 'High Performing Department',\n",
       " 'High Performing Department',\n",
       " 'High Performing Department',\n",
       " 'High Performing Department',\n",
       " 'High Performing Department',\n",
       " 'High Performing Department',\n",
       " 'High Performing Department',\n",
       " 'High Performing Department',\n",
       " 'Non-High Performing Department',\n",
       " 'Non-High Performing Department',\n",
       " 'Non-High Performing Department',\n",
       " 'Non-High Performing Department',\n",
       " 'Non-High Performing Department',\n",
       " 'Non-High Performing Department',\n",
       " 'Non-High Performing Department',\n",
       " 'High Performing Department',\n",
       " 'High Performing Department',\n",
       " 'Non-High Performing Department',\n",
       " 'High Performing Department',\n",
       " 'High Performing Department',\n",
       " 'High Performing Department',\n",
       " 'High Performing Department',\n",
       " 'High Performing Department',\n",
       " 'High Performing Department',\n",
       " 'High Performing Department',\n",
       " 'High Performing Department',\n",
       " 'High Performing Department',\n",
       " 'High Performing Department',\n",
       " 'High Performing Department',\n",
       " 'Non-High Performing Department',\n",
       " 'High Performing Department',\n",
       " 'Non-High Performing Department',\n",
       " 'Non-High Performing Department',\n",
       " 'High Performing Department',\n",
       " 'High Performing Department',\n",
       " 'Non-High Performing Department',\n",
       " 'High Performing Department',\n",
       " 'High Performing Department',\n",
       " 'Non-High Performing Department',\n",
       " 'High Performing Department',\n",
       " 'High Performing Department',\n",
       " 'High Performing Department',\n",
       " 'Non-High Performing Department',\n",
       " 'Non-High Performing Department',\n",
       " 'High Performing Department',\n",
       " 'Non-High Performing Department',\n",
       " 'Non-High Performing Department',\n",
       " 'Non-High Performing Department',\n",
       " 'Non-High Performing Department',\n",
       " 'Non-High Performing Department',\n",
       " 'Non-High Performing Department',\n",
       " 'Non-High Performing Department',\n",
       " 'Non-High Performing Department',\n",
       " 'Non-High Performing Department',\n",
       " 'Non-High Performing Department',\n",
       " 'Non-High Performing Department',\n",
       " 'High Performing Department',\n",
       " 'High Performing Department',\n",
       " 'High Performing Department',\n",
       " 'High Performing Department',\n",
       " 'Non-High Performing Department',\n",
       " 'Non-High Performing Department',\n",
       " 'High Performing Department',\n",
       " 'High Performing Department',\n",
       " 'High Performing Department',\n",
       " 'High Performing Department',\n",
       " 'Non-High Performing Department',\n",
       " 'Non-High Performing Department',\n",
       " 'High Performing Department',\n",
       " 'High Performing Department',\n",
       " 'High Performing Department',\n",
       " 'High Performing Department',\n",
       " 'High Performing Department',\n",
       " 'High Performing Department',\n",
       " 'High Performing Department',\n",
       " 'High Performing Department',\n",
       " 'High Performing Department',\n",
       " 'High Performing Department',\n",
       " 'High Performing Department',\n",
       " 'High Performing Department',\n",
       " 'High Performing Department',\n",
       " 'High Performing Department',\n",
       " 'High Performing Department',\n",
       " 'High Performing Department',\n",
       " 'High Performing Department',\n",
       " 'High Performing Department',\n",
       " 'High Performing Department',\n",
       " 'High Performing Department',\n",
       " 'High Performing Department',\n",
       " 'High Performing Department',\n",
       " 'High Performing Department',\n",
       " 'High Performing Department',\n",
       " 'High Performing Department',\n",
       " 'Non-High Performing Department',\n",
       " 'High Performing Department',\n",
       " 'High Performing Department',\n",
       " 'High Performing Department',\n",
       " 'Non-High Performing Department',\n",
       " 'Non-High Performing Department',\n",
       " 'Non-High Performing Department',\n",
       " 'High Performing Department',\n",
       " 'Non-High Performing Department',\n",
       " 'High Performing Department',\n",
       " 'High Performing Department',\n",
       " 'High Performing Department',\n",
       " 'High Performing Department',\n",
       " 'High Performing Department',\n",
       " 'High Performing Department',\n",
       " 'High Performing Department',\n",
       " 'High Performing Department',\n",
       " 'High Performing Department',\n",
       " 'High Performing Department',\n",
       " 'High Performing Department',\n",
       " 'High Performing Department',\n",
       " 'High Performing Department',\n",
       " 'High Performing Department',\n",
       " 'High Performing Department',\n",
       " 'High Performing Department',\n",
       " 'High Performing Department',\n",
       " 'Non-High Performing Department',\n",
       " 'Non-High Performing Department',\n",
       " 'Non-High Performing Department',\n",
       " 'Non-High Performing Department',\n",
       " 'High Performing Department',\n",
       " 'High Performing Department',\n",
       " 'High Performing Department',\n",
       " 'High Performing Department',\n",
       " 'High Performing Department',\n",
       " 'Non-High Performing Department',\n",
       " 'Non-High Performing Department',\n",
       " 'Non-High Performing Department',\n",
       " 'Non-High Performing Department',\n",
       " 'Non-High Performing Department',\n",
       " 'Non-High Performing Department',\n",
       " 'Non-High Performing Department',\n",
       " 'Non-High Performing Department',\n",
       " 'Non-High Performing Department',\n",
       " 'High Performing Department',\n",
       " 'High Performing Department',\n",
       " 'High Performing Department',\n",
       " 'High Performing Department',\n",
       " 'High Performing Department',\n",
       " 'High Performing Department',\n",
       " 'High Performing Department',\n",
       " 'High Performing Department',\n",
       " 'High Performing Department',\n",
       " 'Non-High Performing Department',\n",
       " 'Non-High Performing Department',\n",
       " 'Non-High Performing Department',\n",
       " 'High Performing Department',\n",
       " 'High Performing Department',\n",
       " 'Non-High Performing Department',\n",
       " 'High Performing Department',\n",
       " 'High Performing Department',\n",
       " 'Non-High Performing Department',\n",
       " 'Non-High Performing Department',\n",
       " 'High Performing Department',\n",
       " 'Non-High Performing Department',\n",
       " 'Non-High Performing Department',\n",
       " 'Non-High Performing Department',\n",
       " 'Non-High Performing Department',\n",
       " 'Non-High Performing Department',\n",
       " 'Non-High Performing Department',\n",
       " 'Non-High Performing Department',\n",
       " 'High Performing Department',\n",
       " 'High Performing Department',\n",
       " 'High Performing Department',\n",
       " 'Non-High Performing Department',\n",
       " 'Non-High Performing Department',\n",
       " 'Non-High Performing Department',\n",
       " 'High Performing Department',\n",
       " 'Non-High Performing Department',\n",
       " 'Non-High Performing Department',\n",
       " 'Non-High Performing Department',\n",
       " 'High Performing Department',\n",
       " 'High Performing Department',\n",
       " 'Non-High Performing Department',\n",
       " 'Non-High Performing Department',\n",
       " 'Non-High Performing Department',\n",
       " 'Non-High Performing Department',\n",
       " 'Non-High Performing Department',\n",
       " 'Non-High Performing Department',\n",
       " 'Non-High Performing Department',\n",
       " 'High Performing Department',\n",
       " 'High Performing Department',\n",
       " 'High Performing Department',\n",
       " 'Non-High Performing Department',\n",
       " 'High Performing Department',\n",
       " 'High Performing Department',\n",
       " 'High Performing Department',\n",
       " 'High Performing Department',\n",
       " 'High Performing Department',\n",
       " 'High Performing Department',\n",
       " 'High Performing Department',\n",
       " 'High Performing Department',\n",
       " 'High Performing Department',\n",
       " 'High Performing Department',\n",
       " 'High Performing Department',\n",
       " 'High Performing Department',\n",
       " 'High Performing Department',\n",
       " 'High Performing Department',\n",
       " 'Non-High Performing Department',\n",
       " 'High Performing Department',\n",
       " 'High Performing Department',\n",
       " 'High Performing Department',\n",
       " 'High Performing Department',\n",
       " 'Non-High Performing Department',\n",
       " 'High Performing Department',\n",
       " 'High Performing Department',\n",
       " 'Non-High Performing Department',\n",
       " 'Non-High Performing Department',\n",
       " 'Non-High Performing Department',\n",
       " 'High Performing Department',\n",
       " 'Non-High Performing Department',\n",
       " 'Non-High Performing Department',\n",
       " 'High Performing Department',\n",
       " 'High Performing Department',\n",
       " 'High Performing Department',\n",
       " 'High Performing Department',\n",
       " 'High Performing Department',\n",
       " 'High Performing Department',\n",
       " 'High Performing Department',\n",
       " 'High Performing Department',\n",
       " 'High Performing Department',\n",
       " 'High Performing Department',\n",
       " 'High Performing Department',\n",
       " 'High Performing Department',\n",
       " 'High Performing Department',\n",
       " 'High Performing Department',\n",
       " 'High Performing Department',\n",
       " 'High Performing Department',\n",
       " ...]"
      ]
     },
     "execution_count": 18,
     "metadata": {},
     "output_type": "execute_result"
    }
   ],
   "source": [
    "# Testing it\n",
    "high_performing_department"
   ]
  },
  {
   "cell_type": "code",
   "execution_count": 19,
   "id": "0673faef",
   "metadata": {},
   "outputs": [],
   "source": [
    "# Creating a new column\n",
    "df_data_merged_A['department_performance'] = high_performing_department"
   ]
  },
  {
   "cell_type": "code",
   "execution_count": 20,
   "id": "ae594f44",
   "metadata": {},
   "outputs": [
    {
     "data": {
      "text/html": [
       "<div>\n",
       "<style scoped>\n",
       "    .dataframe tbody tr th:only-of-type {\n",
       "        vertical-align: middle;\n",
       "    }\n",
       "\n",
       "    .dataframe tbody tr th {\n",
       "        vertical-align: top;\n",
       "    }\n",
       "\n",
       "    .dataframe thead th {\n",
       "        text-align: right;\n",
       "    }\n",
       "</style>\n",
       "<table border=\"1\" class=\"dataframe\">\n",
       "  <thead>\n",
       "    <tr style=\"text-align: right;\">\n",
       "      <th></th>\n",
       "      <th>order_id</th>\n",
       "      <th>user_id</th>\n",
       "      <th>order_number</th>\n",
       "      <th>orders_day_of_week</th>\n",
       "      <th>order_hour_of_day</th>\n",
       "      <th>days_since_prior_order</th>\n",
       "      <th>first_order</th>\n",
       "      <th>product_id</th>\n",
       "      <th>add_to_cart_order</th>\n",
       "      <th>reordered</th>\n",
       "      <th>_merge</th>\n",
       "      <th>product_name</th>\n",
       "      <th>aisle_id</th>\n",
       "      <th>department_id</th>\n",
       "      <th>prices</th>\n",
       "      <th>price_range_loc</th>\n",
       "      <th>busiest_day</th>\n",
       "      <th>busiest_day_2</th>\n",
       "      <th>busiest_period_of_day</th>\n",
       "      <th>average_price</th>\n",
       "      <th>spending_flag</th>\n",
       "      <th>gender</th>\n",
       "      <th>state</th>\n",
       "      <th>age</th>\n",
       "      <th>date_joined</th>\n",
       "      <th>number_of_dependants</th>\n",
       "      <th>marital_status</th>\n",
       "      <th>income</th>\n",
       "      <th>region</th>\n",
       "      <th>max_order</th>\n",
       "      <th>exclude_flag</th>\n",
       "      <th>age_group</th>\n",
       "      <th>income_range</th>\n",
       "      <th>parental_status</th>\n",
       "      <th>selling_performance</th>\n",
       "      <th>department_name</th>\n",
       "      <th>department_performance</th>\n",
       "    </tr>\n",
       "  </thead>\n",
       "  <tbody>\n",
       "    <tr>\n",
       "      <th>0</th>\n",
       "      <td>2539329</td>\n",
       "      <td>1</td>\n",
       "      <td>1</td>\n",
       "      <td>2</td>\n",
       "      <td>8</td>\n",
       "      <td>NaN</td>\n",
       "      <td>True</td>\n",
       "      <td>196</td>\n",
       "      <td>1</td>\n",
       "      <td>0</td>\n",
       "      <td>both</td>\n",
       "      <td>Soda</td>\n",
       "      <td>77</td>\n",
       "      <td>7</td>\n",
       "      <td>9.0</td>\n",
       "      <td>Mid-range product</td>\n",
       "      <td>Regularly busy</td>\n",
       "      <td>Regularly busy</td>\n",
       "      <td>Fewest orders</td>\n",
       "      <td>6.367797</td>\n",
       "      <td>Low Spender</td>\n",
       "      <td>Female</td>\n",
       "      <td>Alabama</td>\n",
       "      <td>31</td>\n",
       "      <td>2/17/2019</td>\n",
       "      <td>3</td>\n",
       "      <td>married</td>\n",
       "      <td>40423</td>\n",
       "      <td>South</td>\n",
       "      <td>10</td>\n",
       "      <td>Non-Low Activity Customer</td>\n",
       "      <td>31-40</td>\n",
       "      <td>009950-040525</td>\n",
       "      <td>parent</td>\n",
       "      <td>Other Products</td>\n",
       "      <td>beverages</td>\n",
       "      <td>High Performing Department</td>\n",
       "    </tr>\n",
       "    <tr>\n",
       "      <th>1</th>\n",
       "      <td>2398795</td>\n",
       "      <td>1</td>\n",
       "      <td>2</td>\n",
       "      <td>3</td>\n",
       "      <td>7</td>\n",
       "      <td>15.0</td>\n",
       "      <td>False</td>\n",
       "      <td>196</td>\n",
       "      <td>1</td>\n",
       "      <td>1</td>\n",
       "      <td>both</td>\n",
       "      <td>Soda</td>\n",
       "      <td>77</td>\n",
       "      <td>7</td>\n",
       "      <td>9.0</td>\n",
       "      <td>Mid-range product</td>\n",
       "      <td>Regularly busy</td>\n",
       "      <td>Slowest days</td>\n",
       "      <td>Fewest orders</td>\n",
       "      <td>6.367797</td>\n",
       "      <td>Low Spender</td>\n",
       "      <td>Female</td>\n",
       "      <td>Alabama</td>\n",
       "      <td>31</td>\n",
       "      <td>2/17/2019</td>\n",
       "      <td>3</td>\n",
       "      <td>married</td>\n",
       "      <td>40423</td>\n",
       "      <td>South</td>\n",
       "      <td>10</td>\n",
       "      <td>Non-Low Activity Customer</td>\n",
       "      <td>31-40</td>\n",
       "      <td>009950-040525</td>\n",
       "      <td>parent</td>\n",
       "      <td>Other Products</td>\n",
       "      <td>beverages</td>\n",
       "      <td>High Performing Department</td>\n",
       "    </tr>\n",
       "    <tr>\n",
       "      <th>2</th>\n",
       "      <td>473747</td>\n",
       "      <td>1</td>\n",
       "      <td>3</td>\n",
       "      <td>3</td>\n",
       "      <td>12</td>\n",
       "      <td>21.0</td>\n",
       "      <td>False</td>\n",
       "      <td>196</td>\n",
       "      <td>1</td>\n",
       "      <td>1</td>\n",
       "      <td>both</td>\n",
       "      <td>Soda</td>\n",
       "      <td>77</td>\n",
       "      <td>7</td>\n",
       "      <td>9.0</td>\n",
       "      <td>Mid-range product</td>\n",
       "      <td>Regularly busy</td>\n",
       "      <td>Slowest days</td>\n",
       "      <td>Fewest orders</td>\n",
       "      <td>6.367797</td>\n",
       "      <td>Low Spender</td>\n",
       "      <td>Female</td>\n",
       "      <td>Alabama</td>\n",
       "      <td>31</td>\n",
       "      <td>2/17/2019</td>\n",
       "      <td>3</td>\n",
       "      <td>married</td>\n",
       "      <td>40423</td>\n",
       "      <td>South</td>\n",
       "      <td>10</td>\n",
       "      <td>Non-Low Activity Customer</td>\n",
       "      <td>31-40</td>\n",
       "      <td>009950-040525</td>\n",
       "      <td>parent</td>\n",
       "      <td>Other Products</td>\n",
       "      <td>beverages</td>\n",
       "      <td>High Performing Department</td>\n",
       "    </tr>\n",
       "    <tr>\n",
       "      <th>3</th>\n",
       "      <td>2254736</td>\n",
       "      <td>1</td>\n",
       "      <td>4</td>\n",
       "      <td>4</td>\n",
       "      <td>7</td>\n",
       "      <td>29.0</td>\n",
       "      <td>False</td>\n",
       "      <td>196</td>\n",
       "      <td>1</td>\n",
       "      <td>1</td>\n",
       "      <td>both</td>\n",
       "      <td>Soda</td>\n",
       "      <td>77</td>\n",
       "      <td>7</td>\n",
       "      <td>9.0</td>\n",
       "      <td>Mid-range product</td>\n",
       "      <td>Least busy</td>\n",
       "      <td>Regularly busy</td>\n",
       "      <td>Fewest orders</td>\n",
       "      <td>6.367797</td>\n",
       "      <td>Low Spender</td>\n",
       "      <td>Female</td>\n",
       "      <td>Alabama</td>\n",
       "      <td>31</td>\n",
       "      <td>2/17/2019</td>\n",
       "      <td>3</td>\n",
       "      <td>married</td>\n",
       "      <td>40423</td>\n",
       "      <td>South</td>\n",
       "      <td>10</td>\n",
       "      <td>Non-Low Activity Customer</td>\n",
       "      <td>31-40</td>\n",
       "      <td>009950-040525</td>\n",
       "      <td>parent</td>\n",
       "      <td>Other Products</td>\n",
       "      <td>beverages</td>\n",
       "      <td>High Performing Department</td>\n",
       "    </tr>\n",
       "    <tr>\n",
       "      <th>4</th>\n",
       "      <td>431534</td>\n",
       "      <td>1</td>\n",
       "      <td>5</td>\n",
       "      <td>4</td>\n",
       "      <td>15</td>\n",
       "      <td>28.0</td>\n",
       "      <td>False</td>\n",
       "      <td>196</td>\n",
       "      <td>1</td>\n",
       "      <td>1</td>\n",
       "      <td>both</td>\n",
       "      <td>Soda</td>\n",
       "      <td>77</td>\n",
       "      <td>7</td>\n",
       "      <td>9.0</td>\n",
       "      <td>Mid-range product</td>\n",
       "      <td>Least busy</td>\n",
       "      <td>Regularly busy</td>\n",
       "      <td>Fewest orders</td>\n",
       "      <td>6.367797</td>\n",
       "      <td>Low Spender</td>\n",
       "      <td>Female</td>\n",
       "      <td>Alabama</td>\n",
       "      <td>31</td>\n",
       "      <td>2/17/2019</td>\n",
       "      <td>3</td>\n",
       "      <td>married</td>\n",
       "      <td>40423</td>\n",
       "      <td>South</td>\n",
       "      <td>10</td>\n",
       "      <td>Non-Low Activity Customer</td>\n",
       "      <td>31-40</td>\n",
       "      <td>009950-040525</td>\n",
       "      <td>parent</td>\n",
       "      <td>Other Products</td>\n",
       "      <td>beverages</td>\n",
       "      <td>High Performing Department</td>\n",
       "    </tr>\n",
       "  </tbody>\n",
       "</table>\n",
       "</div>"
      ],
      "text/plain": [
       "   order_id  user_id  order_number  orders_day_of_week  order_hour_of_day  \\\n",
       "0   2539329        1             1                   2                  8   \n",
       "1   2398795        1             2                   3                  7   \n",
       "2    473747        1             3                   3                 12   \n",
       "3   2254736        1             4                   4                  7   \n",
       "4    431534        1             5                   4                 15   \n",
       "\n",
       "   days_since_prior_order  first_order  product_id  add_to_cart_order  \\\n",
       "0                     NaN         True         196                  1   \n",
       "1                    15.0        False         196                  1   \n",
       "2                    21.0        False         196                  1   \n",
       "3                    29.0        False         196                  1   \n",
       "4                    28.0        False         196                  1   \n",
       "\n",
       "   reordered _merge product_name  aisle_id  department_id  prices  \\\n",
       "0          0   both         Soda        77              7     9.0   \n",
       "1          1   both         Soda        77              7     9.0   \n",
       "2          1   both         Soda        77              7     9.0   \n",
       "3          1   both         Soda        77              7     9.0   \n",
       "4          1   both         Soda        77              7     9.0   \n",
       "\n",
       "     price_range_loc     busiest_day   busiest_day_2 busiest_period_of_day  \\\n",
       "0  Mid-range product  Regularly busy  Regularly busy         Fewest orders   \n",
       "1  Mid-range product  Regularly busy    Slowest days         Fewest orders   \n",
       "2  Mid-range product  Regularly busy    Slowest days         Fewest orders   \n",
       "3  Mid-range product      Least busy  Regularly busy         Fewest orders   \n",
       "4  Mid-range product      Least busy  Regularly busy         Fewest orders   \n",
       "\n",
       "   average_price spending_flag  gender    state  age date_joined  \\\n",
       "0       6.367797   Low Spender  Female  Alabama   31   2/17/2019   \n",
       "1       6.367797   Low Spender  Female  Alabama   31   2/17/2019   \n",
       "2       6.367797   Low Spender  Female  Alabama   31   2/17/2019   \n",
       "3       6.367797   Low Spender  Female  Alabama   31   2/17/2019   \n",
       "4       6.367797   Low Spender  Female  Alabama   31   2/17/2019   \n",
       "\n",
       "   number_of_dependants marital_status  income region  max_order  \\\n",
       "0                     3        married   40423  South         10   \n",
       "1                     3        married   40423  South         10   \n",
       "2                     3        married   40423  South         10   \n",
       "3                     3        married   40423  South         10   \n",
       "4                     3        married   40423  South         10   \n",
       "\n",
       "                exclude_flag age_group   income_range parental_status  \\\n",
       "0  Non-Low Activity Customer     31-40  009950-040525          parent   \n",
       "1  Non-Low Activity Customer     31-40  009950-040525          parent   \n",
       "2  Non-Low Activity Customer     31-40  009950-040525          parent   \n",
       "3  Non-Low Activity Customer     31-40  009950-040525          parent   \n",
       "4  Non-Low Activity Customer     31-40  009950-040525          parent   \n",
       "\n",
       "  selling_performance department_name      department_performance  \n",
       "0      Other Products       beverages  High Performing Department  \n",
       "1      Other Products       beverages  High Performing Department  \n",
       "2      Other Products       beverages  High Performing Department  \n",
       "3      Other Products       beverages  High Performing Department  \n",
       "4      Other Products       beverages  High Performing Department  "
      ]
     },
     "execution_count": 20,
     "metadata": {},
     "output_type": "execute_result"
    }
   ],
   "source": [
    "# Testing it\n",
    "df_data_merged_A.head()"
   ]
  },
  {
   "cell_type": "code",
   "execution_count": 21,
   "id": "a62f04b4",
   "metadata": {},
   "outputs": [],
   "source": [
    "# Creating a subset with only these departments\n",
    "df_data_merged_A_2 = df_data_merged_A[df_data_merged_A['department_performance']==\"High Performing Department\"]"
   ]
  },
  {
   "cell_type": "code",
   "execution_count": 22,
   "id": "ef251700",
   "metadata": {},
   "outputs": [
    {
     "data": {
      "text/plain": [
       "High Performing Department    22683327\n",
       "Name: department_performance, dtype: int64"
      ]
     },
     "execution_count": 22,
     "metadata": {},
     "output_type": "execute_result"
    }
   ],
   "source": [
    "# Check the results\n",
    "df_data_merged_A_2['department_performance'].value_counts()"
   ]
  },
  {
   "cell_type": "code",
   "execution_count": 23,
   "id": "53526aa9",
   "metadata": {},
   "outputs": [
    {
     "data": {
      "text/plain": [
       "Text(0.5, 1.0, 'Percent of Sales for the Top 5 Departments ')"
      ]
     },
     "execution_count": 23,
     "metadata": {},
     "output_type": "execute_result"
    },
    {
     "data": {
      "image/png": "[encoded data removed]",
      "text/plain": [
       "<Figure size 432x288 with 1 Axes>"
      ]
     },
     "metadata": {},
     "output_type": "display_data"
    }
   ],
   "source": [
    "# Check to see % of sales each department has out of the top 5 departments.\n",
    "pie_department_name = df_data_merged_A_2['department_name'].value_counts().sort_index().plot.pie(autopct='%1.1f%%', colors = sns.color_palette('hls', 5))\n",
    "plt.tight_layout()\n",
    "plt.ylabel('')\n",
    "plt.title('Percent of Sales for the Top 5 Departments ')"
   ]
  },
  {
   "cell_type": "code",
   "execution_count": 24,
   "id": "c93d8ead",
   "metadata": {},
   "outputs": [],
   "source": [
    "# Exporting the pie chart\n",
    "pie_department_name.figure.savefig(os.path.join(path,'04 Analysis','Visualizations','pie_department_name.png'))"
   ]
  },
  {
   "cell_type": "markdown",
   "id": "2d7b336f",
   "metadata": {},
   "source": [
    "## Times and days of the week"
   ]
  },
  {
   "cell_type": "code",
   "execution_count": 25,
   "id": "cdd8d513",
   "metadata": {},
   "outputs": [],
   "source": [
    "# # Write for loop to flag \n",
    "\n",
    "result_day = []\n",
    "\n",
    "for value in df_data_merged_A['orders_day_of_week']:\n",
    "    if value == 0:\n",
    "        result_day.append('Saturday')\n",
    "    elif value == 1:\n",
    "        result_day.append('Sunday')\n",
    "    elif value == 2:\n",
    "        result_day.append('Monday')\n",
    "    elif value == 3:\n",
    "        result_day.append('Tuesday')\n",
    "    elif value == 4:\n",
    "        result_day.append('Wednesday')\n",
    "    elif value == 5:\n",
    "        result_day.append('Thursday')\n",
    "    elif value == 6:\n",
    "        result_day.append('Friday')"
   ]
  },
  {
   "cell_type": "code",
   "execution_count": 26,
   "id": "e94d9739",
   "metadata": {},
   "outputs": [],
   "source": [
    "## Adding new column\n",
    "df_data_merged_A['Day_of_Week'] = result_day"
   ]
  },
  {
   "cell_type": "code",
   "execution_count": 27,
   "id": "6ca46d88",
   "metadata": {},
   "outputs": [
    {
     "data": {
      "text/plain": [
       "Saturday     6203329\n",
       "Sunday       5659298\n",
       "Friday       4495887\n",
       "Monday       4213105\n",
       "Thursday     4205076\n",
       "Tuesday      3839865\n",
       "Wednesday    3783172\n",
       "Name: Day_of_Week, dtype: int64"
      ]
     },
     "execution_count": 27,
     "metadata": {},
     "output_type": "execute_result"
    }
   ],
   "source": [
    "# Testing it\n",
    "df_data_merged_A['Day_of_Week'].value_counts()"
   ]
  },
  {
   "cell_type": "code",
   "execution_count": 28,
   "id": "0ca020c9",
   "metadata": {},
   "outputs": [],
   "source": [
    "# Dividing up times of the day\n",
    "result_part_of_day = []\n",
    "\n",
    "for value in df_data_merged_A_2['order_hour_of_day']:\n",
    "    if (value >= 6) and (value  <= 11):\n",
    "        result_part_of_day.append('Morning')\n",
    "    elif (value >= 12) and (value  <= 16):\n",
    "        result_part_of_day.append('Afternoon')\n",
    "    else:\n",
    "        result_part_of_day.append(\"Evening\")\n",
    "        "
   ]
  },
  {
   "cell_type": "code",
   "execution_count": 29,
   "id": "e62710e8",
   "metadata": {},
   "outputs": [
    {
     "data": {
      "text/plain": [
       "['Morning',\n",
       " 'Morning',\n",
       " 'Afternoon',\n",
       " 'Morning',\n",
       " 'Afternoon',\n",
       " 'Morning',\n",
       " 'Morning',\n",
       " 'Afternoon',\n",
       " 'Afternoon',\n",
       " 'Morning',\n",
       " 'Morning',\n",
       " 'Morning',\n",
       " 'Morning',\n",
       " 'Afternoon',\n",
       " 'Morning',\n",
       " 'Afternoon',\n",
       " 'Morning',\n",
       " 'Morning',\n",
       " 'Afternoon',\n",
       " 'Afternoon',\n",
       " 'Morning',\n",
       " 'Morning',\n",
       " 'Morning',\n",
       " 'Morning',\n",
       " 'Afternoon',\n",
       " 'Morning',\n",
       " 'Afternoon',\n",
       " 'Morning',\n",
       " 'Morning',\n",
       " 'Afternoon',\n",
       " 'Afternoon',\n",
       " 'Morning',\n",
       " 'Morning',\n",
       " 'Afternoon',\n",
       " 'Afternoon',\n",
       " 'Morning',\n",
       " 'Afternoon',\n",
       " 'Morning',\n",
       " 'Morning',\n",
       " 'Afternoon',\n",
       " 'Afternoon',\n",
       " 'Morning',\n",
       " 'Afternoon',\n",
       " 'Afternoon',\n",
       " 'Afternoon',\n",
       " 'Afternoon',\n",
       " 'Afternoon',\n",
       " 'Morning',\n",
       " 'Afternoon',\n",
       " 'Afternoon',\n",
       " 'Morning',\n",
       " 'Morning',\n",
       " 'Morning',\n",
       " 'Morning',\n",
       " 'Afternoon',\n",
       " 'Morning',\n",
       " 'Morning',\n",
       " 'Morning',\n",
       " 'Afternoon',\n",
       " 'Afternoon',\n",
       " 'Morning',\n",
       " 'Evening',\n",
       " 'Morning',\n",
       " 'Morning',\n",
       " 'Morning',\n",
       " 'Afternoon',\n",
       " 'Morning',\n",
       " 'Afternoon',\n",
       " 'Afternoon',\n",
       " 'Afternoon',\n",
       " 'Morning',\n",
       " 'Morning',\n",
       " 'Afternoon',\n",
       " 'Morning',\n",
       " 'Morning',\n",
       " 'Morning',\n",
       " 'Afternoon',\n",
       " 'Morning',\n",
       " 'Afternoon',\n",
       " 'Morning',\n",
       " 'Afternoon',\n",
       " 'Morning',\n",
       " 'Morning',\n",
       " 'Morning',\n",
       " 'Afternoon',\n",
       " 'Morning',\n",
       " 'Afternoon',\n",
       " 'Afternoon',\n",
       " 'Morning',\n",
       " 'Afternoon',\n",
       " 'Morning',\n",
       " 'Afternoon',\n",
       " 'Morning',\n",
       " 'Morning',\n",
       " 'Morning',\n",
       " 'Afternoon',\n",
       " 'Afternoon',\n",
       " 'Afternoon',\n",
       " 'Afternoon',\n",
       " 'Morning',\n",
       " 'Morning',\n",
       " 'Morning',\n",
       " 'Morning',\n",
       " 'Morning',\n",
       " 'Afternoon',\n",
       " 'Morning',\n",
       " 'Afternoon',\n",
       " 'Afternoon',\n",
       " 'Morning',\n",
       " 'Morning',\n",
       " 'Morning',\n",
       " 'Morning',\n",
       " 'Morning',\n",
       " 'Morning',\n",
       " 'Afternoon',\n",
       " 'Afternoon',\n",
       " 'Morning',\n",
       " 'Morning',\n",
       " 'Morning',\n",
       " 'Evening',\n",
       " 'Morning',\n",
       " 'Morning',\n",
       " 'Morning',\n",
       " 'Morning',\n",
       " 'Afternoon',\n",
       " 'Afternoon',\n",
       " 'Evening',\n",
       " 'Afternoon',\n",
       " 'Afternoon',\n",
       " 'Afternoon',\n",
       " 'Afternoon',\n",
       " 'Afternoon',\n",
       " 'Afternoon',\n",
       " 'Afternoon',\n",
       " 'Afternoon',\n",
       " 'Afternoon',\n",
       " 'Afternoon',\n",
       " 'Afternoon',\n",
       " 'Afternoon',\n",
       " 'Afternoon',\n",
       " 'Afternoon',\n",
       " 'Afternoon',\n",
       " 'Afternoon',\n",
       " 'Afternoon',\n",
       " 'Evening',\n",
       " 'Evening',\n",
       " 'Afternoon',\n",
       " 'Afternoon',\n",
       " 'Afternoon',\n",
       " 'Afternoon',\n",
       " 'Afternoon',\n",
       " 'Afternoon',\n",
       " 'Afternoon',\n",
       " 'Afternoon',\n",
       " 'Afternoon',\n",
       " 'Afternoon',\n",
       " 'Afternoon',\n",
       " 'Afternoon',\n",
       " 'Afternoon',\n",
       " 'Evening',\n",
       " 'Afternoon',\n",
       " 'Afternoon',\n",
       " 'Afternoon',\n",
       " 'Afternoon',\n",
       " 'Evening',\n",
       " 'Afternoon',\n",
       " 'Afternoon',\n",
       " 'Afternoon',\n",
       " 'Afternoon',\n",
       " 'Afternoon',\n",
       " 'Afternoon',\n",
       " 'Afternoon',\n",
       " 'Evening',\n",
       " 'Afternoon',\n",
       " 'Afternoon',\n",
       " 'Afternoon',\n",
       " 'Evening',\n",
       " 'Afternoon',\n",
       " 'Afternoon',\n",
       " 'Afternoon',\n",
       " 'Afternoon',\n",
       " 'Afternoon',\n",
       " 'Afternoon',\n",
       " 'Afternoon',\n",
       " 'Afternoon',\n",
       " 'Afternoon',\n",
       " 'Afternoon',\n",
       " 'Afternoon',\n",
       " 'Afternoon',\n",
       " 'Afternoon',\n",
       " 'Afternoon',\n",
       " 'Afternoon',\n",
       " 'Afternoon',\n",
       " 'Afternoon',\n",
       " 'Afternoon',\n",
       " 'Afternoon',\n",
       " 'Afternoon',\n",
       " 'Afternoon',\n",
       " 'Afternoon',\n",
       " 'Afternoon',\n",
       " 'Afternoon',\n",
       " 'Afternoon',\n",
       " 'Afternoon',\n",
       " 'Evening',\n",
       " 'Afternoon',\n",
       " 'Afternoon',\n",
       " 'Afternoon',\n",
       " 'Afternoon',\n",
       " 'Evening',\n",
       " 'Evening',\n",
       " 'Evening',\n",
       " 'Afternoon',\n",
       " 'Evening',\n",
       " 'Evening',\n",
       " 'Evening',\n",
       " 'Evening',\n",
       " 'Evening',\n",
       " 'Evening',\n",
       " 'Evening',\n",
       " 'Evening',\n",
       " 'Evening',\n",
       " 'Evening',\n",
       " 'Evening',\n",
       " 'Evening',\n",
       " 'Evening',\n",
       " 'Evening',\n",
       " 'Evening',\n",
       " 'Evening',\n",
       " 'Evening',\n",
       " 'Afternoon',\n",
       " 'Afternoon',\n",
       " 'Afternoon',\n",
       " 'Morning',\n",
       " 'Afternoon',\n",
       " 'Morning',\n",
       " 'Morning',\n",
       " 'Morning',\n",
       " 'Morning',\n",
       " 'Afternoon',\n",
       " 'Morning',\n",
       " 'Morning',\n",
       " 'Morning',\n",
       " 'Afternoon',\n",
       " 'Afternoon',\n",
       " 'Afternoon',\n",
       " 'Morning',\n",
       " 'Morning',\n",
       " 'Afternoon',\n",
       " 'Afternoon',\n",
       " 'Morning',\n",
       " 'Morning',\n",
       " 'Afternoon',\n",
       " 'Afternoon',\n",
       " 'Morning',\n",
       " 'Morning',\n",
       " 'Morning',\n",
       " 'Morning',\n",
       " 'Morning',\n",
       " 'Morning',\n",
       " 'Afternoon',\n",
       " 'Morning',\n",
       " 'Morning',\n",
       " 'Morning',\n",
       " 'Morning',\n",
       " 'Afternoon',\n",
       " 'Afternoon',\n",
       " 'Afternoon',\n",
       " 'Morning',\n",
       " 'Morning',\n",
       " 'Morning',\n",
       " 'Morning',\n",
       " 'Morning',\n",
       " 'Morning',\n",
       " 'Morning',\n",
       " 'Morning',\n",
       " 'Morning',\n",
       " 'Morning',\n",
       " 'Morning',\n",
       " 'Morning',\n",
       " 'Morning',\n",
       " 'Morning',\n",
       " 'Afternoon',\n",
       " 'Morning',\n",
       " 'Morning',\n",
       " 'Morning',\n",
       " 'Morning',\n",
       " 'Morning',\n",
       " 'Morning',\n",
       " 'Morning',\n",
       " 'Morning',\n",
       " 'Morning',\n",
       " 'Morning',\n",
       " 'Afternoon',\n",
       " 'Afternoon',\n",
       " 'Morning',\n",
       " 'Morning',\n",
       " 'Afternoon',\n",
       " 'Afternoon',\n",
       " 'Afternoon',\n",
       " 'Morning',\n",
       " 'Morning',\n",
       " 'Morning',\n",
       " 'Morning',\n",
       " 'Morning',\n",
       " 'Morning',\n",
       " 'Afternoon',\n",
       " 'Morning',\n",
       " 'Morning',\n",
       " 'Morning',\n",
       " 'Morning',\n",
       " 'Afternoon',\n",
       " 'Afternoon',\n",
       " 'Afternoon',\n",
       " 'Afternoon',\n",
       " 'Morning',\n",
       " 'Afternoon',\n",
       " 'Morning',\n",
       " 'Morning',\n",
       " 'Morning',\n",
       " 'Morning',\n",
       " 'Afternoon',\n",
       " 'Morning',\n",
       " 'Morning',\n",
       " 'Morning',\n",
       " 'Afternoon',\n",
       " 'Morning',\n",
       " 'Morning',\n",
       " 'Morning',\n",
       " 'Afternoon',\n",
       " 'Afternoon',\n",
       " 'Morning',\n",
       " 'Morning',\n",
       " 'Afternoon',\n",
       " 'Afternoon',\n",
       " 'Afternoon',\n",
       " 'Afternoon',\n",
       " 'Afternoon',\n",
       " 'Morning',\n",
       " 'Morning',\n",
       " 'Morning',\n",
       " 'Afternoon',\n",
       " 'Afternoon',\n",
       " 'Morning',\n",
       " 'Afternoon',\n",
       " 'Morning',\n",
       " 'Morning',\n",
       " 'Morning',\n",
       " 'Morning',\n",
       " 'Morning',\n",
       " 'Morning',\n",
       " 'Morning',\n",
       " 'Morning',\n",
       " 'Morning',\n",
       " 'Morning',\n",
       " 'Morning',\n",
       " 'Morning',\n",
       " 'Afternoon',\n",
       " 'Morning',\n",
       " 'Morning',\n",
       " 'Morning',\n",
       " 'Afternoon',\n",
       " 'Morning',\n",
       " 'Morning',\n",
       " 'Morning',\n",
       " 'Afternoon',\n",
       " 'Afternoon',\n",
       " 'Morning',\n",
       " 'Morning',\n",
       " 'Morning',\n",
       " 'Morning',\n",
       " 'Morning',\n",
       " 'Afternoon',\n",
       " 'Morning',\n",
       " 'Morning',\n",
       " 'Morning',\n",
       " 'Morning',\n",
       " 'Morning',\n",
       " 'Afternoon',\n",
       " 'Afternoon',\n",
       " 'Morning',\n",
       " 'Morning',\n",
       " 'Morning',\n",
       " 'Morning',\n",
       " 'Morning',\n",
       " 'Morning',\n",
       " 'Morning',\n",
       " 'Morning',\n",
       " 'Morning',\n",
       " 'Morning',\n",
       " 'Morning',\n",
       " 'Morning',\n",
       " 'Morning',\n",
       " 'Morning',\n",
       " 'Morning',\n",
       " 'Morning',\n",
       " 'Afternoon',\n",
       " 'Afternoon',\n",
       " 'Morning',\n",
       " 'Morning',\n",
       " 'Afternoon',\n",
       " 'Afternoon',\n",
       " 'Afternoon',\n",
       " 'Afternoon',\n",
       " 'Afternoon',\n",
       " 'Afternoon',\n",
       " 'Afternoon',\n",
       " 'Afternoon',\n",
       " 'Afternoon',\n",
       " 'Morning',\n",
       " 'Morning',\n",
       " 'Morning',\n",
       " 'Morning',\n",
       " 'Evening',\n",
       " 'Afternoon',\n",
       " 'Morning',\n",
       " 'Morning',\n",
       " 'Morning',\n",
       " 'Morning',\n",
       " 'Morning',\n",
       " 'Afternoon',\n",
       " 'Afternoon',\n",
       " 'Morning',\n",
       " 'Morning',\n",
       " 'Morning',\n",
       " 'Morning',\n",
       " 'Morning',\n",
       " 'Afternoon',\n",
       " 'Morning',\n",
       " 'Morning',\n",
       " 'Afternoon',\n",
       " 'Morning',\n",
       " 'Morning',\n",
       " 'Morning',\n",
       " 'Afternoon',\n",
       " 'Morning',\n",
       " 'Afternoon',\n",
       " 'Morning',\n",
       " 'Afternoon',\n",
       " 'Morning',\n",
       " 'Morning',\n",
       " 'Morning',\n",
       " 'Morning',\n",
       " 'Morning',\n",
       " 'Morning',\n",
       " 'Afternoon',\n",
       " 'Morning',\n",
       " 'Afternoon',\n",
       " 'Morning',\n",
       " 'Morning',\n",
       " 'Afternoon',\n",
       " 'Morning',\n",
       " 'Morning',\n",
       " 'Morning',\n",
       " 'Afternoon',\n",
       " 'Afternoon',\n",
       " 'Morning',\n",
       " 'Morning',\n",
       " 'Morning',\n",
       " 'Morning',\n",
       " 'Afternoon',\n",
       " 'Morning',\n",
       " 'Morning',\n",
       " 'Morning',\n",
       " 'Morning',\n",
       " 'Morning',\n",
       " 'Afternoon',\n",
       " 'Afternoon',\n",
       " 'Morning',\n",
       " 'Afternoon',\n",
       " 'Morning',\n",
       " 'Morning',\n",
       " 'Morning',\n",
       " 'Morning',\n",
       " 'Morning',\n",
       " 'Morning',\n",
       " 'Evening',\n",
       " 'Morning',\n",
       " 'Morning',\n",
       " 'Evening',\n",
       " 'Morning',\n",
       " 'Afternoon',\n",
       " 'Morning',\n",
       " 'Morning',\n",
       " 'Morning',\n",
       " 'Morning',\n",
       " 'Morning',\n",
       " 'Morning',\n",
       " 'Morning',\n",
       " 'Morning',\n",
       " 'Afternoon',\n",
       " 'Morning',\n",
       " 'Morning',\n",
       " 'Afternoon',\n",
       " 'Afternoon',\n",
       " 'Afternoon',\n",
       " 'Afternoon',\n",
       " 'Afternoon',\n",
       " 'Morning',\n",
       " 'Afternoon',\n",
       " 'Afternoon',\n",
       " 'Morning',\n",
       " 'Morning',\n",
       " 'Morning',\n",
       " 'Morning',\n",
       " 'Morning',\n",
       " 'Afternoon',\n",
       " 'Morning',\n",
       " 'Morning',\n",
       " 'Afternoon',\n",
       " 'Afternoon',\n",
       " 'Morning',\n",
       " 'Morning',\n",
       " 'Afternoon',\n",
       " 'Afternoon',\n",
       " 'Afternoon',\n",
       " 'Afternoon',\n",
       " 'Afternoon',\n",
       " 'Morning',\n",
       " 'Afternoon',\n",
       " 'Afternoon',\n",
       " 'Morning',\n",
       " 'Afternoon',\n",
       " 'Morning',\n",
       " 'Morning',\n",
       " 'Morning',\n",
       " 'Afternoon',\n",
       " 'Afternoon',\n",
       " 'Afternoon',\n",
       " 'Morning',\n",
       " 'Afternoon',\n",
       " 'Morning',\n",
       " 'Morning',\n",
       " 'Morning',\n",
       " 'Morning',\n",
       " 'Morning',\n",
       " 'Morning',\n",
       " 'Morning',\n",
       " 'Morning',\n",
       " 'Morning',\n",
       " 'Morning',\n",
       " 'Morning',\n",
       " 'Morning',\n",
       " 'Morning',\n",
       " 'Morning',\n",
       " 'Morning',\n",
       " 'Morning',\n",
       " 'Morning',\n",
       " 'Morning',\n",
       " 'Morning',\n",
       " 'Morning',\n",
       " 'Morning',\n",
       " 'Morning',\n",
       " 'Morning',\n",
       " 'Morning',\n",
       " 'Morning',\n",
       " 'Morning',\n",
       " 'Morning',\n",
       " 'Morning',\n",
       " 'Morning',\n",
       " 'Morning',\n",
       " 'Morning',\n",
       " 'Morning',\n",
       " 'Morning',\n",
       " 'Morning',\n",
       " 'Morning',\n",
       " 'Afternoon',\n",
       " 'Morning',\n",
       " 'Morning',\n",
       " 'Morning',\n",
       " 'Morning',\n",
       " 'Morning',\n",
       " 'Morning',\n",
       " 'Morning',\n",
       " 'Morning',\n",
       " 'Morning',\n",
       " 'Morning',\n",
       " 'Afternoon',\n",
       " 'Morning',\n",
       " 'Afternoon',\n",
       " 'Morning',\n",
       " 'Afternoon',\n",
       " 'Afternoon',\n",
       " 'Afternoon',\n",
       " 'Afternoon',\n",
       " 'Afternoon',\n",
       " 'Afternoon',\n",
       " 'Afternoon',\n",
       " 'Morning',\n",
       " 'Morning',\n",
       " 'Morning',\n",
       " 'Morning',\n",
       " 'Morning',\n",
       " 'Morning',\n",
       " 'Morning',\n",
       " 'Morning',\n",
       " 'Morning',\n",
       " 'Morning',\n",
       " 'Morning',\n",
       " 'Morning',\n",
       " 'Morning',\n",
       " 'Morning',\n",
       " 'Morning',\n",
       " 'Morning',\n",
       " 'Evening',\n",
       " 'Evening',\n",
       " 'Morning',\n",
       " 'Morning',\n",
       " 'Evening',\n",
       " 'Morning',\n",
       " 'Morning',\n",
       " 'Morning',\n",
       " 'Morning',\n",
       " 'Morning',\n",
       " 'Morning',\n",
       " 'Morning',\n",
       " 'Morning',\n",
       " 'Morning',\n",
       " 'Morning',\n",
       " 'Evening',\n",
       " 'Morning',\n",
       " 'Morning',\n",
       " 'Evening',\n",
       " 'Evening',\n",
       " 'Evening',\n",
       " 'Evening',\n",
       " 'Evening',\n",
       " 'Evening',\n",
       " 'Evening',\n",
       " 'Evening',\n",
       " 'Evening',\n",
       " 'Evening',\n",
       " 'Afternoon',\n",
       " 'Afternoon',\n",
       " 'Evening',\n",
       " 'Afternoon',\n",
       " 'Afternoon',\n",
       " 'Evening',\n",
       " 'Morning',\n",
       " 'Evening',\n",
       " 'Afternoon',\n",
       " 'Afternoon',\n",
       " 'Evening',\n",
       " 'Afternoon',\n",
       " 'Afternoon',\n",
       " 'Evening',\n",
       " 'Afternoon',\n",
       " 'Evening',\n",
       " 'Evening',\n",
       " 'Afternoon',\n",
       " 'Evening',\n",
       " 'Afternoon',\n",
       " 'Afternoon',\n",
       " 'Evening',\n",
       " 'Afternoon',\n",
       " 'Evening',\n",
       " 'Afternoon',\n",
       " 'Afternoon',\n",
       " 'Afternoon',\n",
       " 'Morning',\n",
       " 'Evening',\n",
       " 'Afternoon',\n",
       " 'Afternoon',\n",
       " 'Afternoon',\n",
       " 'Afternoon',\n",
       " 'Evening',\n",
       " 'Evening',\n",
       " 'Afternoon',\n",
       " 'Evening',\n",
       " 'Evening',\n",
       " 'Afternoon',\n",
       " 'Afternoon',\n",
       " 'Evening',\n",
       " 'Evening',\n",
       " 'Evening',\n",
       " 'Afternoon',\n",
       " 'Evening',\n",
       " 'Evening',\n",
       " 'Evening',\n",
       " 'Evening',\n",
       " 'Afternoon',\n",
       " 'Evening',\n",
       " 'Morning',\n",
       " 'Evening',\n",
       " 'Morning',\n",
       " 'Evening',\n",
       " 'Morning',\n",
       " 'Evening',\n",
       " 'Evening',\n",
       " 'Afternoon',\n",
       " 'Morning',\n",
       " 'Afternoon',\n",
       " 'Morning',\n",
       " 'Afternoon',\n",
       " 'Evening',\n",
       " 'Evening',\n",
       " 'Afternoon',\n",
       " 'Afternoon',\n",
       " 'Evening',\n",
       " 'Evening',\n",
       " 'Evening',\n",
       " 'Afternoon',\n",
       " 'Afternoon',\n",
       " 'Afternoon',\n",
       " 'Evening',\n",
       " 'Afternoon',\n",
       " 'Evening',\n",
       " 'Evening',\n",
       " 'Afternoon',\n",
       " 'Evening',\n",
       " 'Afternoon',\n",
       " 'Evening',\n",
       " 'Afternoon',\n",
       " 'Afternoon',\n",
       " 'Afternoon',\n",
       " 'Evening',\n",
       " 'Evening',\n",
       " 'Afternoon',\n",
       " 'Afternoon',\n",
       " 'Afternoon',\n",
       " 'Afternoon',\n",
       " 'Afternoon',\n",
       " 'Afternoon',\n",
       " 'Afternoon',\n",
       " 'Afternoon',\n",
       " 'Afternoon',\n",
       " 'Afternoon',\n",
       " 'Morning',\n",
       " 'Morning',\n",
       " 'Morning',\n",
       " 'Morning',\n",
       " 'Morning',\n",
       " 'Morning',\n",
       " 'Morning',\n",
       " 'Morning',\n",
       " 'Afternoon',\n",
       " 'Morning',\n",
       " 'Morning',\n",
       " 'Morning',\n",
       " 'Morning',\n",
       " 'Morning',\n",
       " 'Morning',\n",
       " 'Afternoon',\n",
       " 'Morning',\n",
       " 'Morning',\n",
       " 'Afternoon',\n",
       " 'Morning',\n",
       " 'Morning',\n",
       " 'Morning',\n",
       " 'Morning',\n",
       " 'Morning',\n",
       " 'Morning',\n",
       " 'Morning',\n",
       " 'Morning',\n",
       " 'Afternoon',\n",
       " 'Morning',\n",
       " 'Morning',\n",
       " 'Morning',\n",
       " 'Morning',\n",
       " 'Afternoon',\n",
       " 'Morning',\n",
       " 'Morning',\n",
       " 'Afternoon',\n",
       " 'Morning',\n",
       " 'Morning',\n",
       " 'Afternoon',\n",
       " 'Morning',\n",
       " 'Morning',\n",
       " 'Morning',\n",
       " 'Morning',\n",
       " 'Morning',\n",
       " 'Morning',\n",
       " 'Morning',\n",
       " 'Morning',\n",
       " 'Afternoon',\n",
       " 'Morning',\n",
       " 'Morning',\n",
       " 'Morning',\n",
       " 'Afternoon',\n",
       " 'Morning',\n",
       " 'Morning',\n",
       " 'Morning',\n",
       " 'Morning',\n",
       " 'Morning',\n",
       " 'Afternoon',\n",
       " 'Morning',\n",
       " 'Morning',\n",
       " 'Morning',\n",
       " 'Morning',\n",
       " 'Morning',\n",
       " 'Morning',\n",
       " 'Morning',\n",
       " 'Morning',\n",
       " 'Morning',\n",
       " 'Afternoon',\n",
       " 'Morning',\n",
       " 'Afternoon',\n",
       " 'Morning',\n",
       " 'Morning',\n",
       " 'Morning',\n",
       " 'Morning',\n",
       " 'Morning',\n",
       " 'Afternoon',\n",
       " 'Morning',\n",
       " 'Morning',\n",
       " 'Morning',\n",
       " 'Morning',\n",
       " 'Morning',\n",
       " 'Morning',\n",
       " 'Morning',\n",
       " 'Afternoon',\n",
       " 'Morning',\n",
       " 'Morning',\n",
       " 'Morning',\n",
       " 'Afternoon',\n",
       " 'Morning',\n",
       " 'Afternoon',\n",
       " 'Morning',\n",
       " 'Morning',\n",
       " 'Morning',\n",
       " 'Morning',\n",
       " 'Morning',\n",
       " 'Morning',\n",
       " 'Morning',\n",
       " 'Morning',\n",
       " 'Morning',\n",
       " 'Morning',\n",
       " 'Morning',\n",
       " 'Morning',\n",
       " 'Morning',\n",
       " 'Morning',\n",
       " 'Morning',\n",
       " 'Morning',\n",
       " 'Morning',\n",
       " 'Morning',\n",
       " 'Morning',\n",
       " 'Afternoon',\n",
       " 'Morning',\n",
       " 'Morning',\n",
       " 'Morning',\n",
       " 'Morning',\n",
       " 'Morning',\n",
       " 'Afternoon',\n",
       " 'Morning',\n",
       " 'Morning',\n",
       " 'Morning',\n",
       " 'Morning',\n",
       " 'Morning',\n",
       " 'Morning',\n",
       " 'Morning',\n",
       " 'Afternoon',\n",
       " 'Afternoon',\n",
       " 'Morning',\n",
       " 'Afternoon',\n",
       " 'Afternoon',\n",
       " 'Morning',\n",
       " 'Morning',\n",
       " 'Morning',\n",
       " 'Morning',\n",
       " 'Afternoon',\n",
       " 'Afternoon',\n",
       " 'Afternoon',\n",
       " 'Afternoon',\n",
       " 'Morning',\n",
       " 'Morning',\n",
       " 'Afternoon',\n",
       " 'Morning',\n",
       " 'Morning',\n",
       " 'Afternoon',\n",
       " 'Morning',\n",
       " 'Morning',\n",
       " 'Afternoon',\n",
       " 'Morning',\n",
       " 'Afternoon',\n",
       " 'Morning',\n",
       " 'Morning',\n",
       " 'Morning',\n",
       " 'Morning',\n",
       " 'Morning',\n",
       " 'Morning',\n",
       " 'Afternoon',\n",
       " 'Afternoon',\n",
       " 'Morning',\n",
       " 'Afternoon',\n",
       " 'Afternoon',\n",
       " 'Morning',\n",
       " 'Afternoon',\n",
       " 'Morning',\n",
       " 'Morning',\n",
       " 'Afternoon',\n",
       " 'Morning',\n",
       " 'Morning',\n",
       " 'Morning',\n",
       " 'Afternoon',\n",
       " 'Afternoon',\n",
       " 'Morning',\n",
       " 'Morning',\n",
       " 'Afternoon',\n",
       " 'Morning',\n",
       " 'Afternoon',\n",
       " 'Afternoon',\n",
       " 'Morning',\n",
       " 'Afternoon',\n",
       " 'Afternoon',\n",
       " 'Afternoon',\n",
       " 'Morning',\n",
       " 'Afternoon',\n",
       " 'Morning',\n",
       " 'Afternoon',\n",
       " 'Afternoon',\n",
       " 'Morning',\n",
       " 'Afternoon',\n",
       " 'Afternoon',\n",
       " 'Morning',\n",
       " 'Afternoon',\n",
       " 'Afternoon',\n",
       " 'Afternoon',\n",
       " 'Morning',\n",
       " 'Morning',\n",
       " 'Morning',\n",
       " 'Afternoon',\n",
       " 'Morning',\n",
       " 'Afternoon',\n",
       " 'Afternoon',\n",
       " 'Afternoon',\n",
       " 'Morning',\n",
       " 'Afternoon',\n",
       " 'Morning',\n",
       " 'Morning',\n",
       " 'Morning',\n",
       " 'Afternoon',\n",
       " 'Afternoon',\n",
       " 'Morning',\n",
       " 'Afternoon',\n",
       " 'Morning',\n",
       " 'Afternoon',\n",
       " 'Morning',\n",
       " 'Evening',\n",
       " 'Afternoon',\n",
       " 'Afternoon',\n",
       " 'Morning',\n",
       " 'Morning',\n",
       " 'Afternoon',\n",
       " 'Afternoon',\n",
       " 'Afternoon',\n",
       " 'Afternoon',\n",
       " 'Afternoon',\n",
       " 'Afternoon',\n",
       " 'Morning',\n",
       " 'Morning',\n",
       " 'Morning',\n",
       " 'Afternoon',\n",
       " 'Afternoon',\n",
       " 'Morning',\n",
       " 'Afternoon',\n",
       " 'Afternoon',\n",
       " 'Afternoon',\n",
       " 'Afternoon',\n",
       " 'Afternoon',\n",
       " 'Morning',\n",
       " 'Evening',\n",
       " 'Afternoon',\n",
       " 'Evening',\n",
       " 'Evening',\n",
       " 'Morning',\n",
       " 'Evening',\n",
       " 'Evening',\n",
       " 'Morning',\n",
       " 'Evening',\n",
       " 'Evening',\n",
       " 'Evening',\n",
       " 'Morning',\n",
       " 'Afternoon',\n",
       " 'Afternoon',\n",
       " 'Afternoon',\n",
       " 'Evening',\n",
       " 'Evening',\n",
       " 'Evening',\n",
       " 'Morning',\n",
       " 'Evening',\n",
       " 'Evening',\n",
       " 'Evening',\n",
       " 'Afternoon',\n",
       " 'Morning',\n",
       " 'Morning',\n",
       " 'Morning',\n",
       " 'Morning',\n",
       " 'Morning',\n",
       " 'Morning',\n",
       " 'Afternoon',\n",
       " 'Afternoon',\n",
       " 'Afternoon',\n",
       " 'Morning',\n",
       " 'Morning',\n",
       " 'Afternoon',\n",
       " 'Morning',\n",
       " 'Morning',\n",
       " 'Afternoon',\n",
       " 'Evening',\n",
       " 'Morning',\n",
       " 'Morning',\n",
       " ...]"
      ]
     },
     "execution_count": 29,
     "metadata": {},
     "output_type": "execute_result"
    }
   ],
   "source": [
    "# Testing it\n",
    "result_part_of_day"
   ]
  },
  {
   "cell_type": "code",
   "execution_count": 30,
   "id": "2d993eaf",
   "metadata": {},
   "outputs": [
    {
     "name": "stderr",
     "output_type": "stream",
     "text": [
      "C:\\Users\\mmoss\\AppData\\Local\\Temp/ipykernel_33796/4278430898.py:2: SettingWithCopyWarning: \n",
      "A value is trying to be set on a copy of a slice from a DataFrame.\n",
      "Try using .loc[row_indexer,col_indexer] = value instead\n",
      "\n",
      "See the caveats in the documentation: https://pandas.pydata.org/pandas-docs/stable/user_guide/indexing.html#returning-a-view-versus-a-copy\n",
      "  df_data_merged_A_2['Time_of_Day'] = result_part_of_day\n"
     ]
    }
   ],
   "source": [
    "#Creating a new column\n",
    "df_data_merged_A_2['Time_of_Day'] = result_part_of_day"
   ]
  },
  {
   "cell_type": "code",
   "execution_count": 31,
   "id": "7c92edfe",
   "metadata": {},
   "outputs": [
    {
     "data": {
      "text/plain": [
       "Afternoon    9176678\n",
       "Morning      7644535\n",
       "Evening      5862114\n",
       "Name: Time_of_Day, dtype: int64"
      ]
     },
     "execution_count": 31,
     "metadata": {},
     "output_type": "execute_result"
    }
   ],
   "source": [
    "# Testing it\n",
    "df_data_merged_A_2['Time_of_Day'].value_counts()"
   ]
  },
  {
   "cell_type": "markdown",
   "id": "add9ca7d",
   "metadata": {},
   "source": [
    "# 6. Create an appropriate visualization to show the distribution of profiles."
   ]
  },
  {
   "cell_type": "markdown",
   "id": "96fca1fb",
   "metadata": {},
   "source": [
    "# A) Age"
   ]
  },
  {
   "cell_type": "code",
   "execution_count": 172,
   "id": "2540392c",
   "metadata": {},
   "outputs": [
    {
     "data": {
      "image/png": "[encoded data removed]",
      "text/plain": [
       "<Figure size 432x288 with 1 Axes>"
      ]
     },
     "metadata": {
      "needs_background": "light"
     },
     "output_type": "display_data"
    }
   ],
   "source": [
    "# Going to use a bar chart because it groups the number of customers into age group categories.\n",
    "age_bar_2 = df_data_merged_A['age_group'].value_counts().sort_index().plot.bar(color = \"orange\")\n",
    "plt.ylabel('Number of Orders (In Millions)')\n",
    "plt.xlabel('Age Groups')\n",
    "plt.title('Distribution of Age Groups')\n",
    "plt.tight_layout()"
   ]
  },
  {
   "cell_type": "markdown",
   "id": "c48d66b1",
   "metadata": {},
   "source": [
    "This graph indicates that the age groups 18-20 and 80+ can be removed from marketing strategies."
   ]
  },
  {
   "cell_type": "code",
   "execution_count": 169,
   "id": "4ba5fb97",
   "metadata": {},
   "outputs": [],
   "source": [
    "# Export the graph\n",
    "age_bar_2.figure.savefig(os.path.join(path,'04 Analysis','Visualizations','age_bar_23.png'))"
   ]
  },
  {
   "cell_type": "markdown",
   "id": "145ecfb4",
   "metadata": {},
   "source": [
    "## QUESTION 5A) \n",
    "\n",
    "## Does the information suggest any patterns between age and certain types of goods?"
   ]
  },
  {
   "cell_type": "code",
   "execution_count": 34,
   "id": "45001f3c",
   "metadata": {},
   "outputs": [],
   "source": [
    "# Crosstab for department name and age group \n",
    "dept_name_age = pd.crosstab(df_data_merged_A_2['department_name'], df_data_merged_A_2['age_group'], dropna = False)"
   ]
  },
  {
   "cell_type": "code",
   "execution_count": 35,
   "id": "abdf3c49",
   "metadata": {},
   "outputs": [
    {
     "data": {
      "image/png": "[encoded data removed]",
      "text/plain": [
       "<Figure size 432x288 with 1 Axes>"
      ]
     },
     "metadata": {
      "needs_background": "light"
     },
     "output_type": "display_data"
    }
   ],
   "source": [
    "bar_dept_name_age = dept_name_age.plot.bar(stacked = True, color = sns.light_palette(\"seagreen\", 8))\n",
    "plt.legend(title = 'age_group', loc='upper left')\n",
    "plt.title('Sales by Age Group')\n",
    "plt.xlabel('Department')\n",
    "plt.ylabel('Sales (In Millions)')\n",
    "plt.tight_layout()"
   ]
  },
  {
   "cell_type": "markdown",
   "id": "ca3cc787",
   "metadata": {},
   "source": [
    "Not a huge difference in age group here either appears very uniform across the age groups."
   ]
  },
  {
   "cell_type": "code",
   "execution_count": 36,
   "id": "3ad20d38",
   "metadata": {},
   "outputs": [],
   "source": [
    "# Export the graph\n",
    "bar_dept_name_age.figure.savefig(os.path.join(path,'04 Analysis','Visualizations','dept_name_age.png'))"
   ]
  },
  {
   "cell_type": "markdown",
   "id": "27bb709c",
   "metadata": {},
   "source": [
    "## Are certain age groups high spenders?"
   ]
  },
  {
   "cell_type": "code",
   "execution_count": 37,
   "id": "7c609243",
   "metadata": {},
   "outputs": [],
   "source": [
    "# crosstab age and spending flag\n",
    "age_spending = pd.crosstab(df_data_merged_A['age_group'], df_data_merged_A['spending_flag'], dropna = False)"
   ]
  },
  {
   "cell_type": "code",
   "execution_count": 38,
   "id": "0cdeb7e9",
   "metadata": {},
   "outputs": [
    {
     "data": {
      "image/png": "[encoded data removed]",
      "text/plain": [
       "<Figure size 432x288 with 1 Axes>"
      ]
     },
     "metadata": {
      "needs_background": "light"
     },
     "output_type": "display_data"
    }
   ],
   "source": [
    "# bar chart age and spending flag\n",
    "bar_age_spending = age_spending.plot(kind = 'bar', stacked = True, color = sns.color_palette('coolwarm',3))\n",
    "plt.legend(title = 'spending_flag',loc='upper left')\n",
    "plt.tight_layout()"
   ]
  },
  {
   "cell_type": "markdown",
   "id": "8f00caa3",
   "metadata": {},
   "source": [
    "No."
   ]
  },
  {
   "cell_type": "code",
   "execution_count": 39,
   "id": "8d1a36ba",
   "metadata": {},
   "outputs": [],
   "source": [
    "# Export the graph\n",
    "bar_age_spending.figure.savefig(os.path.join(path,'04 Analysis','Visualizations','age_high_spender.png'))"
   ]
  },
  {
   "cell_type": "markdown",
   "id": "6d090294",
   "metadata": {},
   "source": [
    "# B) Income"
   ]
  },
  {
   "cell_type": "code",
   "execution_count": 228,
   "id": "fee8383b",
   "metadata": {},
   "outputs": [
    {
     "data": {
      "image/png": "[encoded data removed]",
      "text/plain": [
       "<Figure size 432x288 with 1 Axes>"
      ]
     },
     "metadata": {
      "needs_background": "light"
     },
     "output_type": "display_data"
    }
   ],
   "source": [
    "# Going to use a bar chart because it groups the number of customers into income group categories.\n",
    "income_bar = df_data_merged_A['income_range'].value_counts().plot.bar(color = \"green\")\n",
    "plt.ylabel('Number of Orders (In Millions)')\n",
    "plt.xlabel('Income Groups')\n",
    "plt.title('Distribution of Income Groups')\n",
    "plt.tight_layout()\n"
   ]
  },
  {
   "cell_type": "code",
   "execution_count": 229,
   "id": "f2e47b5c",
   "metadata": {},
   "outputs": [],
   "source": [
    "# Export the graph\n",
    "income_bar.figure.savefig(os.path.join(path,'04 Analysis','Visualizations','income_bar.png'))"
   ]
  },
  {
   "cell_type": "markdown",
   "id": "f146fba1",
   "metadata": {},
   "source": [
    "## QUESTION 5B)\n",
    "## Does the information suggest any patterns between income and certain types of goods?"
   ]
  },
  {
   "cell_type": "code",
   "execution_count": 42,
   "id": "7cc4deca",
   "metadata": {},
   "outputs": [],
   "source": [
    "# Crosstab for department name and income group \n",
    "dept_name_income = pd.crosstab(df_data_merged_A_2['department_name'], df_data_merged_A_2['income_range'], dropna = False)"
   ]
  },
  {
   "cell_type": "code",
   "execution_count": 43,
   "id": "8db7a00d",
   "metadata": {},
   "outputs": [
    {
     "data": {
      "image/png": "[encoded data removed]",
      "text/plain": [
       "<Figure size 432x288 with 1 Axes>"
      ]
     },
     "metadata": {
      "needs_background": "light"
     },
     "output_type": "display_data"
    }
   ],
   "source": [
    "bar_dept_name_income = dept_name_income.plot.bar(stacked = True, color = sns.color_palette('hls', 8))\n",
    "plt.legend(title = 'income_group', loc='upper left')\n",
    "plt.title('Sales by Income Group')\n",
    "plt.xlabel('Department')\n",
    "plt.ylabel('Sales (In Millions)')\n",
    "plt.tight_layout()\n"
   ]
  },
  {
   "cell_type": "markdown",
   "id": "21ab3474",
   "metadata": {},
   "source": [
    "Customers who make $40,000 - $170,000 make up the majority of these items and should be the targeted by the marketing department."
   ]
  },
  {
   "cell_type": "code",
   "execution_count": 44,
   "id": "e14f02ed",
   "metadata": {},
   "outputs": [],
   "source": [
    "# Export the graph\n",
    "bar_dept_name_income.figure.savefig(os.path.join(path,'04 Analysis','Visualizations','dept_name_income.png'))"
   ]
  },
  {
   "cell_type": "markdown",
   "id": "d9b9ae81",
   "metadata": {},
   "source": [
    "# C) Number of dependants"
   ]
  },
  {
   "cell_type": "code",
   "execution_count": 45,
   "id": "0048580b",
   "metadata": {},
   "outputs": [
    {
     "data": {
      "text/plain": [
       "Text(0.5, 1.0, 'Distribution of Customers with Dependants')"
      ]
     },
     "execution_count": 45,
     "metadata": {},
     "output_type": "execute_result"
    },
    {
     "data": {
      "image/png": "[encoded data removed]",
      "text/plain": [
       "<Figure size 432x288 with 1 Axes>"
      ]
     },
     "metadata": {
      "needs_background": "light"
     },
     "output_type": "display_data"
    }
   ],
   "source": [
    "# Going to use a bar chart because it groups the number of dependents into categories.\n",
    "age_bar = df_data_merged_A['number_of_dependants'].value_counts().sort_index().plot.bar(color = sns.color_palette(\"Reds\"))\n",
    "plt.ylabel('Number of People (In Millions)')\n",
    "plt.xlabel('Number of Dependants')\n",
    "plt.title('Distribution of Customers with Dependants')"
   ]
  },
  {
   "cell_type": "code",
   "execution_count": 46,
   "id": "c1cf4b81",
   "metadata": {},
   "outputs": [],
   "source": [
    "# Export the graph\n",
    "age_bar.figure.savefig(os.path.join(path,'04 Analysis','Visualizations','age_bar.png'))"
   ]
  },
  {
   "cell_type": "markdown",
   "id": "ab9bdb3a",
   "metadata": {},
   "source": [
    "## Do customers with different number of dependants have different spending habits?\n"
   ]
  },
  {
   "cell_type": "code",
   "execution_count": 47,
   "id": "f3caf6fa",
   "metadata": {},
   "outputs": [],
   "source": [
    "# crosstab number of dependants and spending flag\n",
    "number_of_dependants_spending_flag = pd.crosstab(df_data_merged_A['number_of_dependants'], df_data_merged_A['spending_flag'], dropna = False)"
   ]
  },
  {
   "cell_type": "code",
   "execution_count": 48,
   "id": "06801851",
   "metadata": {},
   "outputs": [
    {
     "data": {
      "image/png": "[encoded data removed]",
      "text/plain": [
       "<Figure size 432x288 with 1 Axes>"
      ]
     },
     "metadata": {
      "needs_background": "light"
     },
     "output_type": "display_data"
    }
   ],
   "source": [
    "# bar chart number of dependants and spending flag\n",
    "bar_number_of_dependants_spending_flag  = number_of_dependants_spending_flag .plot(kind = 'bar', stacked = True, color = sns.color_palette('coolwarm',3))\n",
    "plt.legend(title = 'spending_flag',loc='upper left')\n",
    "plt.tight_layout()"
   ]
  },
  {
   "cell_type": "code",
   "execution_count": 49,
   "id": "bbd8854f",
   "metadata": {},
   "outputs": [],
   "source": [
    "# Export the graph\n",
    "bar_number_of_dependants_spending_flag.figure.savefig(os.path.join(path,'04 Analysis','Visualizations','number_of_dependants_high_spender.png'))"
   ]
  },
  {
   "cell_type": "markdown",
   "id": "e5ca9ca1",
   "metadata": {},
   "source": [
    "No."
   ]
  },
  {
   "cell_type": "markdown",
   "id": "af20fa09",
   "metadata": {},
   "source": [
    "## QUESTION 5C)\n",
    "\n",
    "## Is there a connection between the number of dependants a customer has and certain types of goods?"
   ]
  },
  {
   "cell_type": "code",
   "execution_count": 50,
   "id": "e7362a02",
   "metadata": {},
   "outputs": [],
   "source": [
    "# Crosstab for department name and number of dependants\n",
    "dept_name_dependants = pd.crosstab(df_data_merged_A_2['department_name'], df_data_merged_A_2['number_of_dependants'], dropna = False)"
   ]
  },
  {
   "cell_type": "code",
   "execution_count": 51,
   "id": "7a63d157",
   "metadata": {},
   "outputs": [
    {
     "data": {
      "text/plain": [
       "Text(36.625, 0.5, 'Sales (In Millions)')"
      ]
     },
     "execution_count": 51,
     "metadata": {},
     "output_type": "execute_result"
    },
    {
     "data": {
      "image/png": "[encoded data removed]",
      "text/plain": [
       "<Figure size 432x288 with 1 Axes>"
      ]
     },
     "metadata": {
      "needs_background": "light"
     },
     "output_type": "display_data"
    }
   ],
   "source": [
    "bar_dept_name_dependants = dept_name_dependants.plot.bar(stacked = True, color = sns.color_palette('Oranges', 4))\n",
    "plt.legend(title = 'Number of Dependants', loc='upper left')\n",
    "plt.tight_layout()\n",
    "plt.title('Sales by Department (Grouped by Dependants)')\n",
    "plt.xlabel('Department')\n",
    "plt.ylabel('Sales (In Millions)')"
   ]
  },
  {
   "cell_type": "markdown",
   "id": "364b83e5",
   "metadata": {},
   "source": [
    "Dependants don't have a big impact on department sales. Pretty uniform."
   ]
  },
  {
   "cell_type": "code",
   "execution_count": 52,
   "id": "e6b8a580",
   "metadata": {},
   "outputs": [],
   "source": [
    "# Export the graph\n",
    "bar_dept_name_dependants.figure.savefig(os.path.join(path,'04 Analysis','Visualizations','dept_name_dependants.png'))"
   ]
  },
  {
   "cell_type": "markdown",
   "id": "66c6836b",
   "metadata": {},
   "source": [
    "# D) Parental_Status"
   ]
  },
  {
   "cell_type": "code",
   "execution_count": 53,
   "id": "c8218404",
   "metadata": {},
   "outputs": [
    {
     "data": {
      "text/plain": [
       "Text(0.5, 1.0, 'Distribution of Parents and Non-Parents')"
      ]
     },
     "execution_count": 53,
     "metadata": {},
     "output_type": "execute_result"
    },
    {
     "data": {
      "image/png": "[encoded data removed]",
      "text/plain": [
       "<Figure size 432x288 with 1 Axes>"
      ]
     },
     "metadata": {},
     "output_type": "display_data"
    }
   ],
   "source": [
    "pie_parental_status = df_data_merged_A['parental_status'].value_counts().sort_index().plot.pie(autopct='%1.1f%%', colors = sns.color_palette('bright'))\n",
    "plt.tight_layout()\n",
    "plt.ylabel('')\n",
    "plt.title('Distribution of Parents and Non-Parents')"
   ]
  },
  {
   "cell_type": "markdown",
   "id": "de59113f",
   "metadata": {},
   "source": [
    "## QUESTION 5D)\n",
    "\n",
    "## Does the information suggest any patterns between parental status and certain types of goods?"
   ]
  },
  {
   "cell_type": "code",
   "execution_count": 54,
   "id": "8c0ee4ec",
   "metadata": {},
   "outputs": [],
   "source": [
    "# Crosstab for department name and number of dependants\n",
    "dept_name_parental_status = pd.crosstab(df_data_merged_A_2['department_name'], df_data_merged_A_2['parental_status'], dropna = False)"
   ]
  },
  {
   "cell_type": "code",
   "execution_count": 55,
   "id": "244eef0f",
   "metadata": {},
   "outputs": [
    {
     "data": {
      "image/png": "[encoded data removed]",
      "text/plain": [
       "<Figure size 432x288 with 1 Axes>"
      ]
     },
     "metadata": {
      "needs_background": "light"
     },
     "output_type": "display_data"
    }
   ],
   "source": [
    "bar_dept_name_parental_status = dept_name_parental_status.plot.bar(stacked = True, color = sns.color_palette('Purples', 2))\n",
    "plt.legend(title = 'Parental Status', loc='upper left')\n",
    "plt.title('Sales by Department (Grouped by Parental Status)')\n",
    "plt.xlabel('Department')\n",
    "plt.ylabel('Sales (In Millions)')\n",
    "plt.tight_layout()"
   ]
  },
  {
   "cell_type": "markdown",
   "id": "d66ee605",
   "metadata": {},
   "source": [
    "The marketing team should be targeting parents in their campaigns. "
   ]
  },
  {
   "cell_type": "code",
   "execution_count": 56,
   "id": "25df0a04",
   "metadata": {},
   "outputs": [],
   "source": [
    "# Export the graph\n",
    "bar_dept_name_parental_status.figure.savefig(os.path.join(path,'04 Analysis','Visualizations','dept_name_parental_status.png'))"
   ]
  },
  {
   "cell_type": "markdown",
   "id": "8aeec728",
   "metadata": {},
   "source": [
    "# E) Family Status"
   ]
  },
  {
   "cell_type": "markdown",
   "id": "86d7c392",
   "metadata": {},
   "source": [
    "## QUESTION 5E)\n",
    "\n",
    "## Does the information suggest any patterns between family status and ordering habits?¶"
   ]
  },
  {
   "cell_type": "code",
   "execution_count": 57,
   "id": "6d5fae8d",
   "metadata": {},
   "outputs": [
    {
     "data": {
      "image/png": "[encoded data removed]",
      "text/plain": [
       "<Figure size 432x288 with 1 Axes>"
      ]
     },
     "metadata": {},
     "output_type": "display_data"
    }
   ],
   "source": [
    "pie_family_status = df_data_merged_A['marital_status'].value_counts().sort_index().plot.pie(autopct='%1.1f%%', colors = sns.color_palette('PuRd_r', 4))\n",
    "plt.ylabel('')\n",
    "plt.title('Distribution of Family Status')\n",
    "plt.tight_layout()"
   ]
  },
  {
   "cell_type": "code",
   "execution_count": 58,
   "id": "49e8de75",
   "metadata": {},
   "outputs": [],
   "source": [
    "# Export the graph\n",
    "pie_family_status.figure.savefig(os.path.join(path,'04 Analysis','Visualizations','pie_family_status.png'))"
   ]
  },
  {
   "cell_type": "code",
   "execution_count": 59,
   "id": "a94feb47",
   "metadata": {},
   "outputs": [],
   "source": [
    "# Crosstab for family status and department \n",
    "family_status_department = pd.crosstab(df_data_merged_A_2['department_name'], df_data_merged_A_2['marital_status'], dropna = False)"
   ]
  },
  {
   "cell_type": "code",
   "execution_count": 60,
   "id": "403782ca",
   "metadata": {},
   "outputs": [
    {
     "data": {
      "image/png": "[encoded data removed]",
      "text/plain": [
       "<Figure size 432x288 with 1 Axes>"
      ]
     },
     "metadata": {
      "needs_background": "light"
     },
     "output_type": "display_data"
    }
   ],
   "source": [
    "# Create visual for family status and department name\n",
    "bar_family_status_department = family_status_department.sort_index().plot(kind = 'bar', stacked = True, color = sns.color_palette('PuRd_r', 4))\n",
    "plt.legend(loc='upper left')\n",
    "plt.title('Sales by Department (Grouped by Family Status)')\n",
    "plt.xlabel('Department')\n",
    "plt.ylabel('Sales (In Millions)')\n",
    "plt.tight_layout()"
   ]
  },
  {
   "cell_type": "code",
   "execution_count": 61,
   "id": "7e79b953",
   "metadata": {},
   "outputs": [
    {
     "data": {
      "text/plain": [
       "married                             22753055\n",
       "single                               5324920\n",
       "divorced/widowed                     2771355\n",
       "living with parents and siblings     1550402\n",
       "Name: marital_status, dtype: int64"
      ]
     },
     "execution_count": 61,
     "metadata": {},
     "output_type": "execute_result"
    }
   ],
   "source": [
    "df_data_merged_A['marital_status'].value_counts()"
   ]
  },
  {
   "cell_type": "markdown",
   "id": "b44572b2",
   "metadata": {},
   "source": [
    "Married folks make up the majority of our customers and they should be targeted by our marketing team."
   ]
  },
  {
   "cell_type": "code",
   "execution_count": 62,
   "id": "53b69331",
   "metadata": {},
   "outputs": [],
   "source": [
    "# Export the graph\n",
    "bar_family_status_department.figure.savefig(os.path.join(path,'04 Analysis','Visualizations','dept_name_family_status.png'))"
   ]
  },
  {
   "cell_type": "markdown",
   "id": "76b79b51",
   "metadata": {},
   "source": [
    "# F) TIME"
   ]
  },
  {
   "cell_type": "markdown",
   "id": "f6004b66",
   "metadata": {},
   "source": [
    "## What are the busiest times of day?"
   ]
  },
  {
   "cell_type": "code",
   "execution_count": 128,
   "id": "3df3c064",
   "metadata": {},
   "outputs": [
    {
     "data": {
      "text/plain": [
       "Text(0, 0.5, 'Number of Orders (In Millions)')"
      ]
     },
     "execution_count": 128,
     "metadata": {},
     "output_type": "execute_result"
    },
    {
     "data": {
      "image/png": "[encoded data removed]",
      "text/plain": [
       "<Figure size 432x288 with 1 Axes>"
      ]
     },
     "metadata": {
      "needs_background": "light"
     },
     "output_type": "display_data"
    }
   ],
   "source": [
    "# Busiest hours of the day\n",
    "bar_busiest_hour = df_data_merged_A['order_hour_of_day'].value_counts().sort_index().plot.bar()\n",
    "plt.title('Orders by Hour')\n",
    "plt.xlabel('Hour')\n",
    "plt.ylabel('Number of Orders (In Millions)')"
   ]
  },
  {
   "cell_type": "code",
   "execution_count": 129,
   "id": "d6fbceeb",
   "metadata": {},
   "outputs": [],
   "source": [
    "# Export busiest hours of the day\n",
    "bar_busiest_hour.figure.savefig(os.path.join(path,'04 Analysis','Visualizations','bar_busiest_hour.png'))"
   ]
  },
  {
   "cell_type": "code",
   "execution_count": 131,
   "id": "e53d933f",
   "metadata": {},
   "outputs": [
    {
     "data": {
      "image/png": "[encoded data removed]",
      "text/plain": [
       "<Figure size 432x288 with 1 Axes>"
      ]
     },
     "metadata": {
      "needs_background": "light"
     },
     "output_type": "display_data"
    }
   ],
   "source": [
    "# Busiest day of the week\n",
    "bar_busiest_day_of_week = df_data_merged_A['Day_of_Week'].value_counts().plot.bar()\n",
    "plt.title('Sales by Day')\n",
    "plt.xlabel('Day of the Week')\n",
    "plt.ylabel('Number of Orders (In Millions)')\n",
    "plt.tight_layout()"
   ]
  },
  {
   "cell_type": "code",
   "execution_count": 132,
   "id": "35fd6e08",
   "metadata": {},
   "outputs": [],
   "source": [
    "# Export the graph\n",
    "bar_busiest_day_of_week.figure.savefig(os.path.join(path,'04 Analysis','Visualizations','busiest_day_of_week.png'))"
   ]
  },
  {
   "cell_type": "markdown",
   "id": "7069f112",
   "metadata": {},
   "source": [
    "## Is there a connection between time of day and certain items ordered in departments?"
   ]
  },
  {
   "cell_type": "code",
   "execution_count": 68,
   "id": "dee0a2f9",
   "metadata": {},
   "outputs": [],
   "source": [
    "# Crosstab for department name and for part of the day visualization\n",
    "dept_name_part_day = pd.crosstab(df_data_merged_A_2['department_name'], df_data_merged_A_2['Time_of_Day'], dropna = False)"
   ]
  },
  {
   "cell_type": "code",
   "execution_count": 69,
   "id": "02778bcc",
   "metadata": {},
   "outputs": [
    {
     "data": {
      "image/png": "[encoded data removed]",
      "text/plain": [
       "<Figure size 432x288 with 1 Axes>"
      ]
     },
     "metadata": {
      "needs_background": "light"
     },
     "output_type": "display_data"
    }
   ],
   "source": [
    "# Making bar chart\n",
    "bar_dept_name_part_day = dept_name_part_day.plot.bar(stacked = True, color = sns.color_palette('YlOrBr_r', 4))\n",
    "plt.legend(title = 'Part of Day',loc='upper left')\n",
    "plt.xticks(rotation= 20, horizontalalignment=\"center\")\n",
    "plt.title('Sales by Department (Grouped by Time)')\n",
    "plt.xlabel('Department')\n",
    "plt.ylabel('Sales (In Millions)')\n",
    "plt.tight_layout()"
   ]
  },
  {
   "cell_type": "code",
   "execution_count": 70,
   "id": "8e484cc6",
   "metadata": {},
   "outputs": [],
   "source": [
    "# Export the graph\n",
    "bar_dept_name_part_day.figure.savefig(os.path.join(path,'04 Analysis','Visualizations','dept_name_part_day.png'))"
   ]
  },
  {
   "cell_type": "markdown",
   "id": "bf31ca86",
   "metadata": {},
   "source": [
    "Most sales occur in the afternoon and morning so marketers should target customers for that time."
   ]
  },
  {
   "cell_type": "markdown",
   "id": "5f3ae0e1",
   "metadata": {},
   "source": [
    "## Is there a connection between day of the week and products purchased?"
   ]
  },
  {
   "cell_type": "code",
   "execution_count": 121,
   "id": "352416c0",
   "metadata": {},
   "outputs": [],
   "source": [
    "# Crosstab for department name and weekday visualization\n",
    "dept_name_weekday = pd.crosstab(df_data_merged_A_2['department_name'], df_data_merged_A['Day_of_Week'], dropna = False)"
   ]
  },
  {
   "cell_type": "code",
   "execution_count": 122,
   "id": "b05e997d",
   "metadata": {},
   "outputs": [
    {
     "data": {
      "text/plain": [
       "Text(0, 0.5, 'Number of Orders (In Millions)')"
      ]
     },
     "execution_count": 122,
     "metadata": {},
     "output_type": "execute_result"
    },
    {
     "data": {
      "image/png": "[encoded data removed]",
      "text/plain": [
       "<Figure size 432x288 with 1 Axes>"
      ]
     },
     "metadata": {
      "needs_background": "light"
     },
     "output_type": "display_data"
    }
   ],
   "source": [
    "bar_dept_name_weekday = dept_name_weekday.plot.bar(stacked = True, color  = sns.color_palette(\"ch:start=.2,rot=-.3\", 7))\n",
    "plt.legend(title = 'weekday',loc='upper left')\n",
    "plt.xticks(rotation= 20, horizontalalignment=\"center\")\n",
    "plt.title('Orders by Department (Grouped by day)')\n",
    "plt.xlabel('Department')\n",
    "plt.ylabel('Number of Orders (In Millions)')"
   ]
  },
  {
   "cell_type": "markdown",
   "id": "ed68d285",
   "metadata": {},
   "source": [
    "No connection seems pretty uniform."
   ]
  },
  {
   "cell_type": "code",
   "execution_count": 123,
   "id": "337f0af8",
   "metadata": {},
   "outputs": [],
   "source": [
    "# Export the graph\n",
    "bar_dept_name_weekday.figure.savefig(os.path.join(path,'04 Analysis','Visualizations','bar_dept_weekday.png'))"
   ]
  },
  {
   "cell_type": "markdown",
   "id": "a0dc6ef2",
   "metadata": {},
   "source": [
    "# G) Prices of Products"
   ]
  },
  {
   "cell_type": "code",
   "execution_count": 162,
   "id": "f25fb465",
   "metadata": {},
   "outputs": [
    {
     "data": {
      "text/plain": [
       "<matplotlib.legend.Legend at 0x21e5180e580>"
      ]
     },
     "execution_count": 162,
     "metadata": {},
     "output_type": "execute_result"
    },
    {
     "data": {
      "image/png": "[encoded data removed]",
      "text/plain": [
       "<Figure size 432x288 with 1 Axes>"
      ]
     },
     "metadata": {},
     "output_type": "display_data"
    }
   ],
   "source": [
    "# show prices\n",
    "pie_product_price = df_data_merged_A['price_range_loc'].value_counts().sort_index().plot.pie(autopct='%1.1f%%', colors = sns.color_palette(\"husl\", 3))\n",
    "plt.title('Distribution of Product Prices')\n",
    "plt.ylabel('')\n",
    "plt.legend(loc='center left', bbox_to_anchor=(0.75, 0))\n"
   ]
  },
  {
   "cell_type": "code",
   "execution_count": 163,
   "id": "67b48c50",
   "metadata": {},
   "outputs": [],
   "source": [
    "# Export the graph\n",
    "pie_product_price.figure.savefig(os.path.join(path,'04 Analysis','Visualizations','product_prices_pie.png'))"
   ]
  },
  {
   "cell_type": "markdown",
   "id": "cd7be8ff",
   "metadata": {},
   "source": [
    "## How do prices map on to the departments?"
   ]
  },
  {
   "cell_type": "code",
   "execution_count": 72,
   "id": "9f256b23",
   "metadata": {},
   "outputs": [],
   "source": [
    "# crosstab them\n",
    "departments_price_categories = pd.crosstab(df_data_merged_A_2['department_name'], df_data_merged_A_2['price_range_loc'], dropna = False)"
   ]
  },
  {
   "cell_type": "code",
   "execution_count": 73,
   "id": "aa2cb785",
   "metadata": {},
   "outputs": [
    {
     "data": {
      "image/png": "[encoded data removed]",
      "text/plain": [
       "<Figure size 432x288 with 1 Axes>"
      ]
     },
     "metadata": {
      "needs_background": "light"
     },
     "output_type": "display_data"
    }
   ],
   "source": [
    "# bar chart departments and pricing groups\n",
    "bar_departments_price_groups = departments_price_categories.plot(kind = 'bar', stacked = True, color = sns.color_palette('deep', 2))\n",
    "plt.xticks(rotation= 20, horizontalalignment=\"center\")\n",
    "plt.legend(title = 'Pricing Groups',loc='upper left')\n",
    "plt.title('Orders by Department')\n",
    "plt.xlabel('Department')\n",
    "plt.ylabel('Number of Orders (In Millions)')\n",
    "plt.tight_layout()"
   ]
  },
  {
   "cell_type": "code",
   "execution_count": 74,
   "id": "32a21c45",
   "metadata": {},
   "outputs": [],
   "source": [
    "# Export the graph\n",
    "bar_departments_price_groups.figure.savefig(os.path.join(path,'04 Analysis','Visualizations','bar_dept_pricing_groups.png'))"
   ]
  },
  {
   "cell_type": "code",
   "execution_count": 75,
   "id": "de893cd4",
   "metadata": {},
   "outputs": [
    {
     "data": {
      "text/plain": [
       "Mid-range product     21860860\n",
       "Low-range product     10126321\n",
       "High-range product      412551\n",
       "Name: price_range_loc, dtype: int64"
      ]
     },
     "execution_count": 75,
     "metadata": {},
     "output_type": "execute_result"
    }
   ],
   "source": [
    "df_data_merged_A['price_range_loc'].value_counts()"
   ]
  },
  {
   "cell_type": "markdown",
   "id": "21092445",
   "metadata": {},
   "source": [
    "Very little high range products. Could include some in produce to increase profit? Or turn some low-range into medium?"
   ]
  },
  {
   "cell_type": "markdown",
   "id": "aa0fa50e",
   "metadata": {},
   "source": [
    "## What products do high and low spenders buy?"
   ]
  },
  {
   "cell_type": "code",
   "execution_count": 76,
   "id": "a11019d8",
   "metadata": {},
   "outputs": [],
   "source": [
    "# crosstab them\n",
    "spending_flag_price_range = pd.crosstab(df_data_merged_A_2['spending_flag'], df_data_merged_A_2['price_range_loc'], dropna = False)"
   ]
  },
  {
   "cell_type": "code",
   "execution_count": 77,
   "id": "d4e83310",
   "metadata": {},
   "outputs": [
    {
     "data": {
      "text/plain": [
       "Text(27.0, 0.5, 'Number of Orders (In Tens of Millions)')"
      ]
     },
     "execution_count": 77,
     "metadata": {},
     "output_type": "execute_result"
    },
    {
     "data": {
      "image/png": "[encoded data removed]",
      "text/plain": [
       "<Figure size 432x288 with 1 Axes>"
      ]
     },
     "metadata": {
      "needs_background": "light"
     },
     "output_type": "display_data"
    }
   ],
   "source": [
    "# bar chart spending flag and price ranges\n",
    "spending_flag_price_range = spending_flag_price_range.plot(kind = 'bar', stacked = True, color = sns.color_palette(\"Reds\", 2))\n",
    "plt.xticks(rotation= 20, horizontalalignment=\"center\")\n",
    "plt.tight_layout()\n",
    "plt.legend(title = 'Pricing Groups',loc='upper left')\n",
    "plt.title('Orders by Spender Type')\n",
    "plt.xlabel('Spending Categories')\n",
    "plt.ylabel('Number of Orders (In Tens of Millions)')"
   ]
  },
  {
   "cell_type": "code",
   "execution_count": 78,
   "id": "fad708f2",
   "metadata": {},
   "outputs": [],
   "source": [
    "# Export chart\n",
    "spending_flag_price_range.figure.savefig(os.path.join(path, '04 Analysis','Visualizations', 'spending_flag_price_range.png'))"
   ]
  },
  {
   "cell_type": "markdown",
   "id": "14e8c45e",
   "metadata": {},
   "source": [
    "# H) Gender"
   ]
  },
  {
   "cell_type": "code",
   "execution_count": 79,
   "id": "9d539815",
   "metadata": {},
   "outputs": [
    {
     "data": {
      "text/plain": [
       "Male      16312444\n",
       "Female    16087288\n",
       "Name: gender, dtype: int64"
      ]
     },
     "execution_count": 79,
     "metadata": {},
     "output_type": "execute_result"
    }
   ],
   "source": [
    "## Create piechart of gender of orders\n",
    "df_data_merged_A['gender'].value_counts()"
   ]
  },
  {
   "cell_type": "code",
   "execution_count": 80,
   "id": "06bbdc4f",
   "metadata": {},
   "outputs": [
    {
     "data": {
      "text/plain": [
       "Text(0.5, 1.0, 'Gender of Instacart Customers')"
      ]
     },
     "execution_count": 80,
     "metadata": {},
     "output_type": "execute_result"
    },
    {
     "data": {
      "image/png": "[encoded data removed]",
      "text/plain": [
       "<Figure size 432x288 with 1 Axes>"
      ]
     },
     "metadata": {},
     "output_type": "display_data"
    }
   ],
   "source": [
    "# Make the piechart\n",
    "gender_pie = df_data_merged_A['gender'].value_counts().sort_index().plot.pie(autopct='%1.1f%%', colors = sns.color_palette(\"hls\",2))\n",
    "plt.ylabel('')\n",
    "plt.tight_layout()\n",
    "plt.title('Gender of Instacart Customers')"
   ]
  },
  {
   "cell_type": "code",
   "execution_count": 81,
   "id": "5ffe665d",
   "metadata": {},
   "outputs": [],
   "source": [
    "# Export chart\n",
    "gender_pie.figure.savefig(os.path.join(path, '04 Analysis','Visualizations', 'gender_distribution.png'))"
   ]
  },
  {
   "cell_type": "markdown",
   "id": "6caa63cc",
   "metadata": {},
   "source": [
    "## How does gender map on to the departments"
   ]
  },
  {
   "cell_type": "code",
   "execution_count": 82,
   "id": "c48b45f1",
   "metadata": {},
   "outputs": [],
   "source": [
    "# crosstab them\n",
    "departments_genders = pd.crosstab(df_data_merged_A_2['department_name'], df_data_merged_A_2['gender'], dropna = False)"
   ]
  },
  {
   "cell_type": "code",
   "execution_count": 83,
   "id": "c532497f",
   "metadata": {},
   "outputs": [
    {
     "data": {
      "text/plain": [
       "Text(36.625, 0.5, 'Number of Orders (In Tens of Millions)')"
      ]
     },
     "execution_count": 83,
     "metadata": {},
     "output_type": "execute_result"
    },
    {
     "data": {
      "image/png": "[encoded data removed]",
      "text/plain": [
       "<Figure size 432x288 with 1 Axes>"
      ]
     },
     "metadata": {
      "needs_background": "light"
     },
     "output_type": "display_data"
    }
   ],
   "source": [
    "# Make the bar chart\n",
    "bar_departments_by_gender = departments_genders.plot(kind = 'bar', stacked = True, color = sns.color_palette('coolwarm', 2))\n",
    "plt.xticks(rotation= 20, horizontalalignment=\"center\")\n",
    "plt.tight_layout()\n",
    "plt.title('Orders by Department')\n",
    "plt.xlabel('Department')\n",
    "plt.ylabel('Number of Orders (In Tens of Millions)')"
   ]
  },
  {
   "cell_type": "code",
   "execution_count": 84,
   "id": "4472dfe0",
   "metadata": {},
   "outputs": [],
   "source": [
    "# Export chart\n",
    "bar_departments_by_gender.figure.savefig(os.path.join(path, '04 Analysis','Visualizations', 'gender_departments.png'))"
   ]
  },
  {
   "cell_type": "markdown",
   "id": "ea30885e",
   "metadata": {},
   "source": [
    "## 7. Aggregate the max, mean, and min variables on a customer-profile level for usage frequency and expenditure"
   ]
  },
  {
   "cell_type": "code",
   "execution_count": 85,
   "id": "45607102",
   "metadata": {},
   "outputs": [],
   "source": [
    "# Aggregating age and price\n",
    "agg_age_price = df_data_merged_A.groupby('age_group').agg({'prices':['min', 'max', 'mean']})"
   ]
  },
  {
   "cell_type": "code",
   "execution_count": 86,
   "id": "9099dc3f",
   "metadata": {},
   "outputs": [],
   "source": [
    "# Aggregating age and order number\n",
    "agg_age_order_number = df_data_merged_A.groupby('age_group').agg({'order_number':['min', 'max', 'mean']})"
   ]
  },
  {
   "cell_type": "code",
   "execution_count": 87,
   "id": "c9820070",
   "metadata": {},
   "outputs": [],
   "source": [
    "# Aggregating Income Range and price\n",
    "agg_income_price = df_data_merged_A.groupby('income_range').agg({'prices':['min', 'max', 'mean']})"
   ]
  },
  {
   "cell_type": "code",
   "execution_count": 88,
   "id": "dd3de03f",
   "metadata": {},
   "outputs": [],
   "source": [
    "# Aggregating Income Range and order number\n",
    "agg_income_order_number = df_data_merged_A.groupby('income_range').agg({'order_number':['min', 'max', 'mean']})"
   ]
  },
  {
   "cell_type": "code",
   "execution_count": 89,
   "id": "32dff736",
   "metadata": {},
   "outputs": [],
   "source": [
    "# Aggregating Number of Dependants and prices\n",
    "agg_number_of_dependants_price = df_data_merged_A.groupby('number_of_dependants').agg({'prices':['min', 'max', 'mean']})"
   ]
  },
  {
   "cell_type": "code",
   "execution_count": 90,
   "id": "31d25a26",
   "metadata": {},
   "outputs": [],
   "source": [
    "# Aggregating Number of Dependants and order number\n",
    "agg_number_of_dependants_order_number = df_data_merged_A.groupby('number_of_dependants').agg({'order_number':['min', 'max', 'mean']})"
   ]
  },
  {
   "cell_type": "code",
   "execution_count": 91,
   "id": "8c877dad",
   "metadata": {},
   "outputs": [],
   "source": [
    "# Aggregating Parental Status and price\n",
    "agg_parental_price = df_data_merged_A.groupby('parental_status').agg({'prices':['min', 'max', 'mean']})"
   ]
  },
  {
   "cell_type": "code",
   "execution_count": 92,
   "id": "aad5465d",
   "metadata": {},
   "outputs": [],
   "source": [
    "# Aggregating Parental Status and order number\n",
    "agg_parental_order_number = df_data_merged_A.groupby('parental_status').agg({'order_number':['min', 'max', 'mean']})"
   ]
  },
  {
   "cell_type": "code",
   "execution_count": 93,
   "id": "cda27a68",
   "metadata": {},
   "outputs": [],
   "source": [
    "# Aggregating Family Status and price\n",
    "agg_family_status_price = df_data_merged_A.groupby('marital_status').agg({'prices':['min', 'max', 'mean']})"
   ]
  },
  {
   "cell_type": "code",
   "execution_count": 94,
   "id": "c8c62ba7",
   "metadata": {},
   "outputs": [],
   "source": [
    "# Aggregating Family Status and order number\n",
    "agg_family_status_order_number = df_data_merged_A.groupby('marital_status').agg({'order_number':['min', 'max', 'mean']})"
   ]
  },
  {
   "cell_type": "markdown",
   "id": "9e876000",
   "metadata": {},
   "source": [
    "## 8. Compare your customer profiles with regions and departments. Can you identify a link between them? Customers may demonstrate different behaviors across regions, which could make this information important."
   ]
  },
  {
   "cell_type": "code",
   "execution_count": 95,
   "id": "cadc8d4e",
   "metadata": {},
   "outputs": [
    {
     "data": {
      "text/plain": [
       "South        10790096\n",
       "West          8291679\n",
       "Midwest       7596065\n",
       "Northeast     5721892\n",
       "Name: region, dtype: int64"
      ]
     },
     "execution_count": 95,
     "metadata": {},
     "output_type": "execute_result"
    }
   ],
   "source": [
    "df_data_merged_A['region'].value_counts()"
   ]
  },
  {
   "cell_type": "code",
   "execution_count": 96,
   "id": "1f96afdc",
   "metadata": {},
   "outputs": [],
   "source": [
    "# Getting orders by region\n",
    "orders_by_region = df_data_merged_A['region'].value_counts()"
   ]
  },
  {
   "cell_type": "code",
   "execution_count": 257,
   "id": "c6257f77",
   "metadata": {},
   "outputs": [
    {
     "data": {
      "image/png": "[encoded data removed]",
      "text/plain": [
       "<Figure size 432x288 with 1 Axes>"
      ]
     },
     "metadata": {
      "needs_background": "light"
     },
     "output_type": "display_data"
    }
   ],
   "source": [
    "bar_orders_by_region = orders_by_region.plot.bar(stacked = True, color = \"purple\")\n",
    "plt.title('Number of Orders (by Region)')\n",
    "plt.xlabel('Region')\n",
    "plt.ylabel('Number of Orders (In tens of millions)')\n",
    "plt.tight_layout()"
   ]
  },
  {
   "cell_type": "markdown",
   "id": "28bcc4c3",
   "metadata": {},
   "source": [
    "Most orders occur in the South. Marketers may want to know this."
   ]
  },
  {
   "cell_type": "code",
   "execution_count": 258,
   "id": "dbefc6e9",
   "metadata": {},
   "outputs": [],
   "source": [
    "# Export the graph\n",
    "bar_orders_by_region.figure.savefig(os.path.join(path,'04 Analysis','Visualizations','bar_orders_by_region.png'))"
   ]
  },
  {
   "cell_type": "markdown",
   "id": "275d941e",
   "metadata": {},
   "source": [
    "## Key Quesion : How much of each top 5 departments are ordered by each region?"
   ]
  },
  {
   "cell_type": "code",
   "execution_count": 99,
   "id": "0ae34d64",
   "metadata": {},
   "outputs": [],
   "source": [
    "#crosstab them\n",
    "region_department = pd.crosstab(df_data_merged_A_2['department_name'], df_data_merged_A_2['region'], dropna = False)"
   ]
  },
  {
   "cell_type": "code",
   "execution_count": 100,
   "id": "42cca8b4",
   "metadata": {},
   "outputs": [
    {
     "data": {
      "text/plain": [
       "Text(0, 0.5, 'Number of Orders (In Millions)')"
      ]
     },
     "execution_count": 100,
     "metadata": {},
     "output_type": "execute_result"
    },
    {
     "data": {
      "image/png": "[encoded data removed]",
      "text/plain": [
       "<Figure size 432x288 with 1 Axes>"
      ]
     },
     "metadata": {
      "needs_background": "light"
     },
     "output_type": "display_data"
    }
   ],
   "source": [
    "bar_orders_by_department_region = region_department.plot.bar(stacked = True, color = sns.color_palette(\"cubehelix\", 5))\n",
    "plt.title('Numbers of Orders in each department')\n",
    "plt.xlabel('Department')\n",
    "plt.ylabel('Number of Orders (In Millions)')"
   ]
  },
  {
   "cell_type": "markdown",
   "id": "7a4cd6c7",
   "metadata": {},
   "source": [
    "The south and west make up a majority of the produce department. Can see other distributions from this chart. "
   ]
  },
  {
   "cell_type": "code",
   "execution_count": 101,
   "id": "19f53805",
   "metadata": {},
   "outputs": [],
   "source": [
    "# Export the graph\n",
    "bar_orders_by_department_region.figure.savefig(os.path.join(path,'04 Analysis','Visualizations','bar_orders_by_region_and_department.png'))"
   ]
  },
  {
   "cell_type": "markdown",
   "id": "6d6f56ba",
   "metadata": {},
   "source": [
    "## Key Question: How much of each Instacart age group is represented by the regions?"
   ]
  },
  {
   "cell_type": "code",
   "execution_count": 102,
   "id": "a95242ad",
   "metadata": {},
   "outputs": [],
   "source": [
    "#crosstab them\n",
    "agegroup_regions = pd.crosstab(df_data_merged_A['age_group'], df_data_merged_A['region'], dropna = False)"
   ]
  },
  {
   "cell_type": "code",
   "execution_count": 103,
   "id": "6b6c0f51",
   "metadata": {},
   "outputs": [
    {
     "data": {
      "text/plain": [
       "<matplotlib.legend.Legend at 0x21e4fc66d60>"
      ]
     },
     "execution_count": 103,
     "metadata": {},
     "output_type": "execute_result"
    },
    {
     "data": {
      "image/png": "[encoded data removed]",
      "text/plain": [
       "<Figure size 432x288 with 1 Axes>"
      ]
     },
     "metadata": {
      "needs_background": "light"
     },
     "output_type": "display_data"
    }
   ],
   "source": [
    "# Create bar chart\n",
    "bar_orders_by_age_region = agegroup_regions.plot.bar(stacked = True, color = sns.color_palette(\"Set2\", 4))\n",
    "plt.title('Number of Orders by Age')\n",
    "plt.xlabel('Age Group')\n",
    "plt.ylabel('Number of Orders (In Millions)')\n",
    "plt.legend(loc='center left', bbox_to_anchor=(1, 0.5))"
   ]
  },
  {
   "cell_type": "code",
   "execution_count": 104,
   "id": "2bb28101",
   "metadata": {},
   "outputs": [],
   "source": [
    "# Export the graph\n",
    "bar_orders_by_region.figure.savefig(os.path.join(path,'04 Analysis','Visualizations','bar_orders_by_age_group_and_region.png'))"
   ]
  },
  {
   "cell_type": "markdown",
   "id": "28fa7317",
   "metadata": {},
   "source": [
    "## Key Question: How much of each Instacart Income Group is represented by the regions?"
   ]
  },
  {
   "cell_type": "code",
   "execution_count": 105,
   "id": "cd67b3ef",
   "metadata": {},
   "outputs": [],
   "source": [
    "#crosstab them\n",
    "incomegroup_regions = pd.crosstab(df_data_merged_A['income_range'], df_data_merged_A['region'], dropna = False)"
   ]
  },
  {
   "cell_type": "code",
   "execution_count": 106,
   "id": "5fde0e07",
   "metadata": {},
   "outputs": [
    {
     "data": {
      "text/plain": [
       "<matplotlib.legend.Legend at 0x21e4fbc0f40>"
      ]
     },
     "execution_count": 106,
     "metadata": {},
     "output_type": "execute_result"
    },
    {
     "data": {
      "image/png": "[encoded data removed]",
      "text/plain": [
       "<Figure size 432x288 with 1 Axes>"
      ]
     },
     "metadata": {
      "needs_background": "light"
     },
     "output_type": "display_data"
    }
   ],
   "source": [
    "# Create bar chart\n",
    "bar_orders_by_income_region = incomegroup_regions.plot.bar(stacked = True, color = sns.color_palette(\"Paired\", 4))\n",
    "plt.title('Number of Orders by Income')\n",
    "plt.xlabel('Income Group')\n",
    "plt.ylabel('Number of Orders (In Tens of Millions)')\n",
    "plt.legend(loc='center left', bbox_to_anchor=(1, 0.5))"
   ]
  },
  {
   "cell_type": "markdown",
   "id": "56bf8f3e",
   "metadata": {},
   "source": [
    "A good portion of the 40k - 107k customers is made up of people from the south and the west."
   ]
  },
  {
   "cell_type": "markdown",
   "id": "49a60a73",
   "metadata": {},
   "source": [
    "## Additional Key Question: What’s the distribution among users in regards to their brand loyalty (i.e., how often do they return to Instacart)?"
   ]
  },
  {
   "cell_type": "code",
   "execution_count": 107,
   "id": "82d6ea6a",
   "metadata": {},
   "outputs": [],
   "source": [
    "# Code for the Loyal Customer\n",
    "df_data_merged_A.loc[df_data_merged_A['max_order'] > 40, 'loyalty_flag'] = 'Loyal customer'"
   ]
  },
  {
   "cell_type": "code",
   "execution_count": 108,
   "id": "16311be4",
   "metadata": {},
   "outputs": [],
   "source": [
    "# Code for Regular Customer\n",
    "df_data_merged_A.loc[(df_data_merged_A['max_order'] <= 40) & (df_data_merged_A['max_order'] > 10), 'loyalty_flag'] = 'Regular customer'"
   ]
  },
  {
   "cell_type": "code",
   "execution_count": 109,
   "id": "0739b59a",
   "metadata": {},
   "outputs": [],
   "source": [
    "# Code for New Customer\n",
    "df_data_merged_A.loc[df_data_merged_A['max_order'] <= 10, 'loyalty_flag'] = 'New customer'"
   ]
  },
  {
   "cell_type": "code",
   "execution_count": 110,
   "id": "5d2af242",
   "metadata": {},
   "outputs": [
    {
     "data": {
      "text/plain": [
       "Regular customer    15874128\n",
       "Loyal customer      10282763\n",
       "New customer         6242841\n",
       "Name: loyalty_flag, dtype: int64"
      ]
     },
     "execution_count": 110,
     "metadata": {},
     "output_type": "execute_result"
    }
   ],
   "source": [
    "# Checking frequencies of all the customer types\n",
    "df_data_merged_A['loyalty_flag'].value_counts(dropna = False)"
   ]
  },
  {
   "cell_type": "code",
   "execution_count": 111,
   "id": "ba081c49",
   "metadata": {},
   "outputs": [
    {
     "data": {
      "image/png": "[encoded data removed]",
      "text/plain": [
       "<Figure size 432x288 with 1 Axes>"
      ]
     },
     "metadata": {},
     "output_type": "display_data"
    }
   ],
   "source": [
    "# Make pie chart of loyalty_flag (how many orders customers have made)\n",
    "pie_loyalty = df_data_merged_A['loyalty_flag'].value_counts().sort_index().plot.pie(autopct='%1.1f%%', colors = sns.color_palette('hls', 5))\n",
    "plt.ylabel('')\n",
    "plt.title('Customer Loyalty ')\n",
    "plt.tight_layout()"
   ]
  },
  {
   "cell_type": "markdown",
   "id": "048243f8",
   "metadata": {},
   "source": [
    "## Additional Key Question: Are there differences in ordering habits based on a customer’s loyalty status?"
   ]
  },
  {
   "cell_type": "code",
   "execution_count": 112,
   "id": "9350b999",
   "metadata": {},
   "outputs": [],
   "source": [
    "# Cross the loyalty and spending flags\n",
    "customer_loyalty_spending = pd.crosstab(df_data_merged_A['loyalty_flag'], df_data_merged_A['spending_flag'], dropna = False)"
   ]
  },
  {
   "cell_type": "code",
   "execution_count": 253,
   "id": "be48a605",
   "metadata": {},
   "outputs": [
    {
     "data": {
      "text/plain": [
       "(0.0, 300000.0)"
      ]
     },
     "execution_count": 253,
     "metadata": {},
     "output_type": "execute_result"
    },
    {
     "data": {
      "image/png": "[encoded data removed]",
      "text/plain": [
       "<Figure size 432x288 with 1 Axes>"
      ]
     },
     "metadata": {
      "needs_background": "light"
     },
     "output_type": "display_data"
    }
   ],
   "source": [
    "# Create bar chart\n",
    "bar_loyalty_spending = customer_loyalty_spending.plot.bar(stacked = True, color = sns.color_palette(\"Paired\", 4))\n",
    "plt.title('Proportion of Spenders by Customer Loyalty')\n",
    "plt.xlabel('Type of Customer')\n",
    "plt.ylabel('Number of Customers')\n",
    "plt.legend(loc='center left', bbox_to_anchor=(1, 0.75))\n",
    "plt.tight_layout()\n",
    "plt.ylim(0,300000)"
   ]
  },
  {
   "cell_type": "code",
   "execution_count": 254,
   "id": "e45322b4",
   "metadata": {},
   "outputs": [],
   "source": [
    "# Export the graph\n",
    "bar_loyalty_spending.figure.savefig(os.path.join(path,'04 Analysis','Visualizations','bar_spending_loyalty_2.png'))"
   ]
  },
  {
   "cell_type": "code",
   "execution_count": 115,
   "id": "6685db68",
   "metadata": {},
   "outputs": [
    {
     "data": {
      "text/plain": [
       "Low Spender     32280045\n",
       "High Spender      119687\n",
       "Name: spending_flag, dtype: int64"
      ]
     },
     "execution_count": 115,
     "metadata": {},
     "output_type": "execute_result"
    }
   ],
   "source": [
    "df_data_merged_A['spending_flag'].value_counts()"
   ]
  },
  {
   "cell_type": "markdown",
   "id": "51451e2d",
   "metadata": {},
   "source": [
    "## Additional Key Questions: What different classifications does the demographic information suggest? Age? Income? Certain types of goods? Family status?"
   ]
  },
  {
   "cell_type": "code",
   "execution_count": 116,
   "id": "bae7c237",
   "metadata": {},
   "outputs": [
    {
     "data": {
      "image/png": "[encoded data removed]",
      "text/plain": [
       "<Figure size 432x288 with 1 Axes>"
      ]
     },
     "metadata": {
      "needs_background": "light"
     },
     "output_type": "display_data"
    }
   ],
   "source": [
    "# Create bar chart\n",
    "bar_top_five_dept = df_data_merged_A_2['department_name'].value_counts().plot.bar( color = sns.color_palette(\"Reds_r\", 5))\n",
    "plt.title('Numbers of Orders by Department')\n",
    "plt.xlabel('Department')\n",
    "plt.ylabel('Number of Orders (In Millions)')\n",
    "plt.tight_layout()"
   ]
  },
  {
   "cell_type": "code",
   "execution_count": 117,
   "id": "18c3bb40",
   "metadata": {},
   "outputs": [],
   "source": [
    "# Export the graph\n",
    "bar_top_five_dept.figure.savefig(os.path.join(path,'04 Analysis','Visualizations','dept_top_five.png'))"
   ]
  },
  {
   "cell_type": "code",
   "execution_count": 118,
   "id": "97bf6961",
   "metadata": {},
   "outputs": [],
   "source": [
    "# Export the graph\n",
    "pie_loyalty.figure.savefig(os.path.join(path,'04 Analysis','Visualizations','pie_loyalty.png'))"
   ]
  },
  {
   "cell_type": "code",
   "execution_count": 119,
   "id": "30ba176d",
   "metadata": {},
   "outputs": [],
   "source": [
    "# Export the graph\n",
    "bar_orders_by_income_region.figure.savefig(os.path.join(path,'04 Analysis','Visualizations','bar_orders_by_income_group_and_region.png'))"
   ]
  },
  {
   "cell_type": "code",
   "execution_count": 120,
   "id": "2445a047",
   "metadata": {},
   "outputs": [],
   "source": [
    "# Export latest note book\n",
    "df_data_merged_A_2.to_pickle(os.path.join(path,'02 Data','Prepared Data','orders_products_merged_B.pkl'))"
   ]
  },
  {
   "cell_type": "code",
   "execution_count": null,
   "id": "c9ab93a9",
   "metadata": {},
   "outputs": [],
   "source": []
  }
 ],
 "metadata": {
  "kernelspec": {
   "display_name": "Python 3 (ipykernel)",
   "language": "python",
   "name": "python3"
  },
  "language_info": {
   "codemirror_mode": {
    "name": "ipython",
    "version": 3
   },
   "file_extension": ".py",
   "mimetype": "text/x-python",
   "name": "python",
   "nbconvert_exporter": "python",
   "pygments_lexer": "ipython3",
   "version": "3.9.7"
  }
 },
 "nbformat": 4,
 "nbformat_minor": 5
}
