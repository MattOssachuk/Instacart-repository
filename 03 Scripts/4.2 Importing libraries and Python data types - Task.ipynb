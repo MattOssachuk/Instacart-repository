{
 "cells": [
  {
   "cell_type": "markdown",
   "id": "68dd8fa5",
   "metadata": {},
   "source": [
    "\n",
    "\n",
    "1) Add a section header to your notebook for importing libraries. In the cell beneath the section header, import the pandas, NumPy, and os libraries. Ensure you include a comment in your code.\n",
    "\n",
    "\n",
    "2) Add a second section header to your notebook for working with Python data types.\n",
    "\n",
    "3) Code 3 different ways of reaching a result of 100 by adding or subtracting numeric variables. Code 2 floating-point variables and divide them by each other. Construct a short word made of separate strings (you’ll need to concatenate some strings!). Construct 2 short sentences made of separate strings.\n",
    "\n",
    "\n",
    "\n",
    "\n",
    "\n",
    "\n"
   ]
  },
  {
   "cell_type": "markdown",
   "id": "1ae2a388",
   "metadata": {},
   "source": [
    "# 01. Importing libraries"
   ]
  },
  {
   "cell_type": "code",
   "execution_count": 2,
   "id": "c3bd80e0",
   "metadata": {},
   "outputs": [],
   "source": [
    "# Import libraries\n",
    "import pandas as pd\n",
    "import numpy as np\n",
    "import os"
   ]
  },
  {
   "cell_type": "markdown",
   "id": "b46da51f",
   "metadata": {},
   "source": [
    "# 02. Python Data Types"
   ]
  },
  {
   "cell_type": "code",
   "execution_count": 5,
   "id": "d4a7e390",
   "metadata": {},
   "outputs": [],
   "source": [
    "x = 90"
   ]
  },
  {
   "cell_type": "code",
   "execution_count": 6,
   "id": "fc2c8d74",
   "metadata": {},
   "outputs": [],
   "source": [
    "y = 50"
   ]
  },
  {
   "cell_type": "code",
   "execution_count": 7,
   "id": "55394648",
   "metadata": {},
   "outputs": [],
   "source": [
    "z = 70"
   ]
  },
  {
   "cell_type": "markdown",
   "id": "070d2132",
   "metadata": {},
   "source": [
    "# 03."
   ]
  },
  {
   "cell_type": "markdown",
   "id": "47d088b6",
   "metadata": {},
   "source": [
    "## Numbers that add to 100 (1)"
   ]
  },
  {
   "cell_type": "code",
   "execution_count": 8,
   "id": "c6e2ecb3",
   "metadata": {},
   "outputs": [
    {
     "data": {
      "text/plain": [
       "100"
      ]
     },
     "execution_count": 8,
     "metadata": {},
     "output_type": "execute_result"
    }
   ],
   "source": [
    "x + 10"
   ]
  },
  {
   "cell_type": "markdown",
   "id": "60712450",
   "metadata": {},
   "source": [
    "## Numbers that add to 100(2)"
   ]
  },
  {
   "cell_type": "code",
   "execution_count": 9,
   "id": "52697101",
   "metadata": {},
   "outputs": [
    {
     "data": {
      "text/plain": [
       "100"
      ]
     },
     "execution_count": 9,
     "metadata": {},
     "output_type": "execute_result"
    }
   ],
   "source": [
    "y + 50"
   ]
  },
  {
   "cell_type": "markdown",
   "id": "133c6a83",
   "metadata": {},
   "source": [
    "## Numbers that add to 100(3)"
   ]
  },
  {
   "cell_type": "code",
   "execution_count": 11,
   "id": "e36577e7",
   "metadata": {},
   "outputs": [
    {
     "data": {
      "text/plain": [
       "100"
      ]
     },
     "execution_count": 11,
     "metadata": {},
     "output_type": "execute_result"
    }
   ],
   "source": [
    "z + 30"
   ]
  },
  {
   "cell_type": "markdown",
   "id": "edc04b3a",
   "metadata": {},
   "source": [
    "## Floating Point Numbers"
   ]
  },
  {
   "cell_type": "code",
   "execution_count": 12,
   "id": "3ef2d740",
   "metadata": {},
   "outputs": [],
   "source": [
    "m = 3.14159"
   ]
  },
  {
   "cell_type": "code",
   "execution_count": 13,
   "id": "6461dc20",
   "metadata": {},
   "outputs": [],
   "source": [
    "n = 3"
   ]
  },
  {
   "cell_type": "code",
   "execution_count": 14,
   "id": "cf771c77",
   "metadata": {},
   "outputs": [
    {
     "data": {
      "text/plain": [
       "1.0471966666666666"
      ]
     },
     "execution_count": 14,
     "metadata": {},
     "output_type": "execute_result"
    }
   ],
   "source": [
    "m / n "
   ]
  },
  {
   "cell_type": "markdown",
   "id": "b8c030e7",
   "metadata": {},
   "source": [
    "## Concatenating Strings"
   ]
  },
  {
   "cell_type": "code",
   "execution_count": 29,
   "id": "f0be5578",
   "metadata": {},
   "outputs": [],
   "source": [
    "a = \"app\""
   ]
  },
  {
   "cell_type": "code",
   "execution_count": 28,
   "id": "a963c7fd",
   "metadata": {},
   "outputs": [],
   "source": [
    "b = \"le\""
   ]
  },
  {
   "cell_type": "code",
   "execution_count": 30,
   "id": "a65c9aa6",
   "metadata": {},
   "outputs": [
    {
     "data": {
      "text/plain": [
       "'apple'"
      ]
     },
     "execution_count": 30,
     "metadata": {},
     "output_type": "execute_result"
    }
   ],
   "source": [
    "a + b"
   ]
  },
  {
   "cell_type": "markdown",
   "id": "4166c2b8",
   "metadata": {},
   "source": [
    "## Constructing two short sentences"
   ]
  },
  {
   "cell_type": "code",
   "execution_count": 31,
   "id": "8a508da6",
   "metadata": {},
   "outputs": [],
   "source": [
    "c = 'The puppy ate all of '"
   ]
  },
  {
   "cell_type": "code",
   "execution_count": 32,
   "id": "cb706166",
   "metadata": {},
   "outputs": [],
   "source": [
    "d = 'his food and fell asleep.'"
   ]
  },
  {
   "cell_type": "code",
   "execution_count": 36,
   "id": "db195e34",
   "metadata": {},
   "outputs": [],
   "source": [
    "e = ' He was going to miss '"
   ]
  },
  {
   "cell_type": "code",
   "execution_count": 34,
   "id": "afbac432",
   "metadata": {},
   "outputs": [],
   "source": [
    "f = 'going to play in the park.'"
   ]
  },
  {
   "cell_type": "code",
   "execution_count": 37,
   "id": "ef996bac",
   "metadata": {},
   "outputs": [
    {
     "data": {
      "text/plain": [
       "'The puppy ate all of his food and fell asleep. He was going to miss going to play in the park.'"
      ]
     },
     "execution_count": 37,
     "metadata": {},
     "output_type": "execute_result"
    }
   ],
   "source": [
    "c + d + e + f"
   ]
  },
  {
   "cell_type": "markdown",
   "id": "f264fc72",
   "metadata": {},
   "source": [
    "## String Appearing 100 Times"
   ]
  },
  {
   "cell_type": "code",
   "execution_count": 38,
   "id": "4700e0ad",
   "metadata": {},
   "outputs": [],
   "source": [
    "o = ' puppy '"
   ]
  },
  {
   "cell_type": "code",
   "execution_count": 39,
   "id": "a09902d6",
   "metadata": {},
   "outputs": [
    {
     "data": {
      "text/plain": [
       "' puppy  puppy  puppy  puppy  puppy  puppy  puppy  puppy  puppy  puppy  puppy  puppy  puppy  puppy  puppy  puppy  puppy  puppy  puppy  puppy  puppy  puppy  puppy  puppy  puppy  puppy  puppy  puppy  puppy  puppy  puppy  puppy  puppy  puppy  puppy  puppy  puppy  puppy  puppy  puppy  puppy  puppy  puppy  puppy  puppy  puppy  puppy  puppy  puppy  puppy  puppy  puppy  puppy  puppy  puppy  puppy  puppy  puppy  puppy  puppy  puppy  puppy  puppy  puppy  puppy  puppy  puppy  puppy  puppy  puppy  puppy  puppy  puppy  puppy  puppy  puppy  puppy  puppy  puppy  puppy  puppy  puppy  puppy  puppy  puppy  puppy  puppy  puppy  puppy  puppy  puppy  puppy  puppy  puppy  puppy  puppy  puppy  puppy  puppy  puppy '"
      ]
     },
     "execution_count": 39,
     "metadata": {},
     "output_type": "execute_result"
    }
   ],
   "source": [
    "o * 100"
   ]
  }
 ],
 "metadata": {
  "kernelspec": {
   "display_name": "Python 3 (ipykernel)",
   "language": "python",
   "name": "python3"
  },
  "language_info": {
   "codemirror_mode": {
    "name": "ipython",
    "version": 3
   },
   "file_extension": ".py",
   "mimetype": "text/x-python",
   "name": "python",
   "nbconvert_exporter": "python",
   "pygments_lexer": "ipython3",
   "version": "3.9.7"
  }
 },
 "nbformat": 4,
 "nbformat_minor": 5
}
