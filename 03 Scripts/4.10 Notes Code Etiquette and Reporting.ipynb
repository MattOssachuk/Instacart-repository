{
 "cells": [
  {
   "cell_type": "markdown",
   "id": "1d9564f0",
   "metadata": {},
   "source": [
    "# Importing Libraries"
   ]
  },
  {
   "cell_type": "code",
   "execution_count": 1,
   "id": "daffc27b",
   "metadata": {},
   "outputs": [],
   "source": [
    "# Import Libraries\n",
    "import pandas as pd\n",
    "import numpy as np\n",
    "import os\n"
   ]
  },
  {
   "cell_type": "markdown",
   "id": "05a399c5",
   "metadata": {},
   "source": [
    "## Creating a path to the .pkl file"
   ]
  },
  {
   "cell_type": "code",
   "execution_count": 2,
   "id": "ade75247",
   "metadata": {},
   "outputs": [],
   "source": [
    "# Path to the project folder\n",
    "path = r'C:\\Users\\mmoss\\20-12-2021 Instacart Basket Analysis'"
   ]
  },
  {
   "cell_type": "markdown",
   "id": "fce156aa",
   "metadata": {},
   "source": [
    "## Importing the .pkl file"
   ]
  },
  {
   "cell_type": "code",
   "execution_count": 3,
   "id": "ed00df30",
   "metadata": {},
   "outputs": [],
   "source": [
    "# Importing the 4.9_data_merged.pkl\n",
    "df_data_merged = pd.read_pickle(os.path.join(path, '02 Data', 'Prepared Data', '4.9_data_merged.pkl'))"
   ]
  },
  {
   "cell_type": "markdown",
   "id": "938306ea",
   "metadata": {},
   "source": [
    "## Checking the missing values in days_since_prior_order column"
   ]
  },
  {
   "cell_type": "code",
   "execution_count": 5,
   "id": "baf0cee9",
   "metadata": {},
   "outputs": [],
   "source": [
    "# Using a crosstab\n",
    "crosstab = pd.crosstab(df_data_merged['days_since_prior_order'], df_data_merged['order_number'], dropna = False)"
   ]
  },
  {
   "cell_type": "code",
   "execution_count": 6,
   "id": "73324927",
   "metadata": {},
   "outputs": [],
   "source": [
    "# Saved to crosstab object, now saving to clipboard to paste into excel to view\n",
    "crosstab.to_clipboard()"
   ]
  },
  {
   "cell_type": "code",
   "execution_count": null,
   "id": "4f5ef23b",
   "metadata": {},
   "outputs": [],
   "source": []
  }
 ],
 "metadata": {
  "kernelspec": {
   "display_name": "Python 3 (ipykernel)",
   "language": "python",
   "name": "python3"
  },
  "language_info": {
   "codemirror_mode": {
    "name": "ipython",
    "version": 3
   },
   "file_extension": ".py",
   "mimetype": "text/x-python",
   "name": "python",
   "nbconvert_exporter": "python",
   "pygments_lexer": "ipython3",
   "version": "3.9.7"
  }
 },
 "nbformat": 4,
 "nbformat_minor": 5
}
